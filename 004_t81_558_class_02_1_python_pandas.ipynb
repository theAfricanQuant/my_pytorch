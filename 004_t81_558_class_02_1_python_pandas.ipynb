{
 "cells": [
  {
   "cell_type": "markdown",
   "metadata": {
    "id": "nG3Apx_DPc-q"
   },
   "source": [
    "<a href=\"https://colab.research.google.com/github/jeffheaton/app_deep_learning/blob/main/t81_558_class_02_1_python_pandas.ipynb\" target=\"_parent\"><img src=\"https://colab.research.google.com/assets/colab-badge.svg\" alt=\"Open In Colab\"/></a>\n"
   ]
  },
  {
   "cell_type": "markdown",
   "metadata": {
    "id": "X0TRjzNmPc-s"
   },
   "source": [
    "# T81-558: Applications of Deep Neural Networks\n",
    "\n",
    "**Module 2: Python for Machine Learning**\n",
    "\n",
    "- Instructor: [Jeff Heaton](https://sites.wustl.edu/jeffheaton/), McKelvey School of Engineering, [Washington University in St. Louis](https://engineering.wustl.edu/Programs/Pages/default.aspx)\n",
    "- For more information visit the [class website](https://sites.wustl.edu/jeffheaton/t81-558/).\n"
   ]
  },
  {
   "cell_type": "markdown",
   "metadata": {
    "id": "kJ-2rjbRPc-s"
   },
   "source": [
    "# Module 2 Material\n",
    "\n",
    "Main video lecture:\n",
    "\n",
    "- **Part 2.1: Introduction to Pandas** [[Video]](https://www.youtube.com/watch?v=wixHCvnvnsU&list=PLjy4p-07OYzuy_lHcRW8lPTLPTTOmUpmi) [[Notebook]](t81_558_class_02_1_python_pandas.ipynb)\n",
    "- Part 2.2: Categorical Values [[Video]](https://www.youtube.com/watch?v=Fm7Ax23hDP0&list=PLjy4p-07OYzuy_lHcRW8lPTLPTTOmUpmi) [[Notebook]](t81_558_class_02_2_pandas_cat.ipynb)\n",
    "- Part 2.3: Grouping, Sorting, and Shuffling in Python Pandas [[Video]](https://www.youtube.com/watch?v=tUhaD8xWd7k&list=PLjy4p-07OYzuy_lHcRW8lPTLPTTOmUpmi) [[Notebook]](t81_558_class_02_3_pandas_grouping.ipynb)\n",
    "- Part 2.4: Using Apply and Map in Pandas [[Video]](https://www.youtube.com/watch?v=YNo_mg1RrkM&list=PLjy4p-07OYzuy_lHcRW8lPTLPTTOmUpmi) [[Notebook]](t81_558_class_02_4_pandas_functional.ipynb)\n",
    "- Part 2.5: Feature Engineering in Pandas for Deep Learning in PyTorch [[Video]](https://www.youtube.com/watch?v=ezaVtM405Qs&list=PLjy4p-07OYzuy_lHcRW8lPTLPTTOmUpmi) [[Notebook]](t81_558_class_02_5_pandas_features.ipynb)\n"
   ]
  },
  {
   "cell_type": "markdown",
   "metadata": {
    "id": "iZ_8UV9iPc-s"
   },
   "source": [
    "# Google CoLab Instructions\n",
    "\n",
    "The following code ensures that Google CoLab is running and maps Google Drive if needed.\n"
   ]
  },
  {
   "cell_type": "code",
   "execution_count": 1,
   "metadata": {
    "colab": {
     "base_uri": "https://localhost:8080/"
    },
    "id": "bW1I-KvlPc-t",
    "outputId": "e2064ab4-b6a6-41bb-c8f1-462b9c2a3d4a"
   },
   "outputs": [
    {
     "name": "stdout",
     "output_type": "stream",
     "text": [
      "Note: not using Google CoLab\n"
     ]
    }
   ],
   "source": [
    "try:\n",
    "    from google.colab import drive\n",
    "\n",
    "    COLAB = True\n",
    "    print(\"Note: using Google CoLab\")\n",
    "except:\n",
    "    print(\"Note: not using Google CoLab\")\n",
    "    COLAB = False"
   ]
  },
  {
   "cell_type": "markdown",
   "metadata": {
    "id": "L40PpDgLPc-t"
   },
   "source": [
    "# Part 2.1: Introduction to Pandas\n",
    "\n",
    "[Pandas](http://pandas.pydata.org/) is an open-source library providing high-performance, easy-to-use data structures and data analysis tools for the Python programming language. It is based on the [dataframe](http://pandas.pydata.org/pandas-docs/stable/generated/pandas.DataFrame.html) concept found in the [R programming language](https://www.r-project.org/about.html). For this class, Pandas will be the primary means by which we manipulate data to be processed by neural networks.\n",
    "\n",
    "The data frame is a crucial component of Pandas. We will use it to access the [auto-mpg dataset](https://archive.ics.uci.edu/ml/datasets/Auto+MPG). You can find this dataset on the UCI machine learning repository. For this class, we will use a version of the Auto MPG dataset, where I added column headers. You can find my [version](https://data.heatonresearch.com/data/t81-558/auto-mpg.csv) at [https://data.heatonresearch.com/](https://data.heatonresearch.com/).\n",
    "\n",
    "UCI took this dataset from the StatLib library, which Carnegie Mellon University maintains. The dataset was used in the 1983 American Statistical Association Exposition. It contains data for 398 cars, including [mpg](https://en.wikipedia.org/wiki/Fuel_economy_in_automobiles), [cylinders](<https://en.wikipedia.org/wiki/Cylinder_(engine)>), [displacement](https://en.wikipedia.org/wiki/Engine_displacement), [horsepower](https://en.wikipedia.org/wiki/Horsepower) , weight, acceleration, model year, origin and the car's name.\n",
    "\n",
    "The following code loads the MPG dataset into a data frame:\n"
   ]
  },
  {
   "cell_type": "code",
   "execution_count": 2,
   "metadata": {},
   "outputs": [],
   "source": [
    "import os\n",
    "import pickle\n",
    "import numpy as np\n",
    "import pandas as pd\n",
    "from pathlib import Path\n",
    "from sklearn.model_selection import train_test_split"
   ]
  },
  {
   "cell_type": "code",
   "execution_count": 3,
   "metadata": {
    "colab": {
     "base_uri": "https://localhost:8080/",
     "height": 236
    },
    "id": "6BSFfPTQPc-t",
    "outputId": "f5563898-7094-4e13-e3cc-144ab9bea71f"
   },
   "outputs": [
    {
     "data": {
      "text/html": [
       "<div>\n",
       "<style scoped>\n",
       "    .dataframe tbody tr th:only-of-type {\n",
       "        vertical-align: middle;\n",
       "    }\n",
       "\n",
       "    .dataframe tbody tr th {\n",
       "        vertical-align: top;\n",
       "    }\n",
       "\n",
       "    .dataframe thead th {\n",
       "        text-align: right;\n",
       "    }\n",
       "</style>\n",
       "<table border=\"1\" class=\"dataframe\">\n",
       "  <thead>\n",
       "    <tr style=\"text-align: right;\">\n",
       "      <th></th>\n",
       "      <th>mpg</th>\n",
       "      <th>cylinders</th>\n",
       "      <th>displacement</th>\n",
       "      <th>horsepower</th>\n",
       "      <th>weight</th>\n",
       "      <th>acceleration</th>\n",
       "      <th>year</th>\n",
       "      <th>origin</th>\n",
       "      <th>name</th>\n",
       "    </tr>\n",
       "  </thead>\n",
       "  <tbody>\n",
       "    <tr>\n",
       "      <th>0</th>\n",
       "      <td>18.0</td>\n",
       "      <td>8</td>\n",
       "      <td>307.0</td>\n",
       "      <td>130</td>\n",
       "      <td>3504</td>\n",
       "      <td>12.0</td>\n",
       "      <td>70</td>\n",
       "      <td>1</td>\n",
       "      <td>chevrolet chevelle malibu</td>\n",
       "    </tr>\n",
       "    <tr>\n",
       "      <th>1</th>\n",
       "      <td>15.0</td>\n",
       "      <td>8</td>\n",
       "      <td>350.0</td>\n",
       "      <td>165</td>\n",
       "      <td>3693</td>\n",
       "      <td>11.5</td>\n",
       "      <td>70</td>\n",
       "      <td>1</td>\n",
       "      <td>buick skylark 320</td>\n",
       "    </tr>\n",
       "    <tr>\n",
       "      <th>2</th>\n",
       "      <td>18.0</td>\n",
       "      <td>8</td>\n",
       "      <td>318.0</td>\n",
       "      <td>150</td>\n",
       "      <td>3436</td>\n",
       "      <td>11.0</td>\n",
       "      <td>70</td>\n",
       "      <td>1</td>\n",
       "      <td>plymouth satellite</td>\n",
       "    </tr>\n",
       "    <tr>\n",
       "      <th>3</th>\n",
       "      <td>16.0</td>\n",
       "      <td>8</td>\n",
       "      <td>304.0</td>\n",
       "      <td>150</td>\n",
       "      <td>3433</td>\n",
       "      <td>12.0</td>\n",
       "      <td>70</td>\n",
       "      <td>1</td>\n",
       "      <td>amc rebel sst</td>\n",
       "    </tr>\n",
       "    <tr>\n",
       "      <th>4</th>\n",
       "      <td>17.0</td>\n",
       "      <td>8</td>\n",
       "      <td>302.0</td>\n",
       "      <td>140</td>\n",
       "      <td>3449</td>\n",
       "      <td>10.5</td>\n",
       "      <td>70</td>\n",
       "      <td>1</td>\n",
       "      <td>ford torino</td>\n",
       "    </tr>\n",
       "  </tbody>\n",
       "</table>\n",
       "</div>"
      ],
      "text/plain": [
       "    mpg  cylinders  displacement horsepower  weight  acceleration  year  \\\n",
       "0  18.0          8         307.0        130    3504          12.0    70   \n",
       "1  15.0          8         350.0        165    3693          11.5    70   \n",
       "2  18.0          8         318.0        150    3436          11.0    70   \n",
       "3  16.0          8         304.0        150    3433          12.0    70   \n",
       "4  17.0          8         302.0        140    3449          10.5    70   \n",
       "\n",
       "   origin                       name  \n",
       "0       1  chevrolet chevelle malibu  \n",
       "1       1          buick skylark 320  \n",
       "2       1         plymouth satellite  \n",
       "3       1              amc rebel sst  \n",
       "4       1                ford torino  "
      ]
     },
     "metadata": {},
     "output_type": "display_data"
    },
    {
     "name": "stdout",
     "output_type": "stream",
     "text": [
      "<class 'pandas.core.frame.DataFrame'>\n",
      "RangeIndex: 398 entries, 0 to 397\n",
      "Data columns (total 9 columns):\n",
      " #   Column        Non-Null Count  Dtype  \n",
      "---  ------        --------------  -----  \n",
      " 0   mpg           398 non-null    float64\n",
      " 1   cylinders     398 non-null    int64  \n",
      " 2   displacement  398 non-null    float64\n",
      " 3   horsepower    398 non-null    object \n",
      " 4   weight        398 non-null    int64  \n",
      " 5   acceleration  398 non-null    float64\n",
      " 6   year          398 non-null    int64  \n",
      " 7   origin        398 non-null    int64  \n",
      " 8   name          398 non-null    object \n",
      "dtypes: float64(3), int64(4), object(2)\n",
      "memory usage: 28.1+ KB\n"
     ]
    }
   ],
   "source": [
    "# Simple dataframe\n",
    "pd.set_option(\"display.max_columns\", 20)\n",
    "df = pd.read_csv(\"https://data.heatonresearch.com/data/t81-558/auto-mpg.csv\")\n",
    "display(df[0:5])\n",
    "df.info()"
   ]
  },
  {
   "cell_type": "markdown",
   "metadata": {
    "id": "KyOFIsFLPc-u"
   },
   "source": [
    "The **display** function provides a cleaner display than merely printing the data frame. Specifying the maximum rows and columns allows you to achieve greater control over the display.\n"
   ]
  },
  {
   "cell_type": "code",
   "execution_count": 4,
   "metadata": {
    "colab": {
     "base_uri": "https://localhost:8080/",
     "height": 236
    },
    "id": "yxcfKTiDPc-u",
    "outputId": "bf369b8d-c567-47e5-a7f0-78c58b5f1e79"
   },
   "outputs": [
    {
     "data": {
      "text/html": [
       "<div>\n",
       "<style scoped>\n",
       "    .dataframe tbody tr th:only-of-type {\n",
       "        vertical-align: middle;\n",
       "    }\n",
       "\n",
       "    .dataframe tbody tr th {\n",
       "        vertical-align: top;\n",
       "    }\n",
       "\n",
       "    .dataframe thead th {\n",
       "        text-align: right;\n",
       "    }\n",
       "</style>\n",
       "<table border=\"1\" class=\"dataframe\">\n",
       "  <thead>\n",
       "    <tr style=\"text-align: right;\">\n",
       "      <th></th>\n",
       "      <th>mpg</th>\n",
       "      <th>cylinders</th>\n",
       "      <th>displacement</th>\n",
       "      <th>horsepower</th>\n",
       "      <th>weight</th>\n",
       "      <th>acceleration</th>\n",
       "      <th>year</th>\n",
       "      <th>origin</th>\n",
       "      <th>name</th>\n",
       "    </tr>\n",
       "  </thead>\n",
       "  <tbody>\n",
       "    <tr>\n",
       "      <th>0</th>\n",
       "      <td>18.0</td>\n",
       "      <td>8</td>\n",
       "      <td>307.0</td>\n",
       "      <td>130</td>\n",
       "      <td>3504</td>\n",
       "      <td>12.0</td>\n",
       "      <td>70</td>\n",
       "      <td>1</td>\n",
       "      <td>chevrolet chevelle malibu</td>\n",
       "    </tr>\n",
       "    <tr>\n",
       "      <th>1</th>\n",
       "      <td>15.0</td>\n",
       "      <td>8</td>\n",
       "      <td>350.0</td>\n",
       "      <td>165</td>\n",
       "      <td>3693</td>\n",
       "      <td>11.5</td>\n",
       "      <td>70</td>\n",
       "      <td>1</td>\n",
       "      <td>buick skylark 320</td>\n",
       "    </tr>\n",
       "    <tr>\n",
       "      <th>2</th>\n",
       "      <td>18.0</td>\n",
       "      <td>8</td>\n",
       "      <td>318.0</td>\n",
       "      <td>150</td>\n",
       "      <td>3436</td>\n",
       "      <td>11.0</td>\n",
       "      <td>70</td>\n",
       "      <td>1</td>\n",
       "      <td>plymouth satellite</td>\n",
       "    </tr>\n",
       "    <tr>\n",
       "      <th>3</th>\n",
       "      <td>16.0</td>\n",
       "      <td>8</td>\n",
       "      <td>304.0</td>\n",
       "      <td>150</td>\n",
       "      <td>3433</td>\n",
       "      <td>12.0</td>\n",
       "      <td>70</td>\n",
       "      <td>1</td>\n",
       "      <td>amc rebel sst</td>\n",
       "    </tr>\n",
       "    <tr>\n",
       "      <th>4</th>\n",
       "      <td>17.0</td>\n",
       "      <td>8</td>\n",
       "      <td>302.0</td>\n",
       "      <td>140</td>\n",
       "      <td>3449</td>\n",
       "      <td>10.5</td>\n",
       "      <td>70</td>\n",
       "      <td>1</td>\n",
       "      <td>ford torino</td>\n",
       "    </tr>\n",
       "    <tr>\n",
       "      <th>...</th>\n",
       "      <td>...</td>\n",
       "      <td>...</td>\n",
       "      <td>...</td>\n",
       "      <td>...</td>\n",
       "      <td>...</td>\n",
       "      <td>...</td>\n",
       "      <td>...</td>\n",
       "      <td>...</td>\n",
       "      <td>...</td>\n",
       "    </tr>\n",
       "    <tr>\n",
       "      <th>393</th>\n",
       "      <td>27.0</td>\n",
       "      <td>4</td>\n",
       "      <td>140.0</td>\n",
       "      <td>86</td>\n",
       "      <td>2790</td>\n",
       "      <td>15.6</td>\n",
       "      <td>82</td>\n",
       "      <td>1</td>\n",
       "      <td>ford mustang gl</td>\n",
       "    </tr>\n",
       "    <tr>\n",
       "      <th>394</th>\n",
       "      <td>44.0</td>\n",
       "      <td>4</td>\n",
       "      <td>97.0</td>\n",
       "      <td>52</td>\n",
       "      <td>2130</td>\n",
       "      <td>24.6</td>\n",
       "      <td>82</td>\n",
       "      <td>2</td>\n",
       "      <td>vw pickup</td>\n",
       "    </tr>\n",
       "    <tr>\n",
       "      <th>395</th>\n",
       "      <td>32.0</td>\n",
       "      <td>4</td>\n",
       "      <td>135.0</td>\n",
       "      <td>84</td>\n",
       "      <td>2295</td>\n",
       "      <td>11.6</td>\n",
       "      <td>82</td>\n",
       "      <td>1</td>\n",
       "      <td>dodge rampage</td>\n",
       "    </tr>\n",
       "    <tr>\n",
       "      <th>396</th>\n",
       "      <td>28.0</td>\n",
       "      <td>4</td>\n",
       "      <td>120.0</td>\n",
       "      <td>79</td>\n",
       "      <td>2625</td>\n",
       "      <td>18.6</td>\n",
       "      <td>82</td>\n",
       "      <td>1</td>\n",
       "      <td>ford ranger</td>\n",
       "    </tr>\n",
       "    <tr>\n",
       "      <th>397</th>\n",
       "      <td>31.0</td>\n",
       "      <td>4</td>\n",
       "      <td>119.0</td>\n",
       "      <td>82</td>\n",
       "      <td>2720</td>\n",
       "      <td>19.4</td>\n",
       "      <td>82</td>\n",
       "      <td>1</td>\n",
       "      <td>chevy s-10</td>\n",
       "    </tr>\n",
       "  </tbody>\n",
       "</table>\n",
       "<p>398 rows × 9 columns</p>\n",
       "</div>"
      ],
      "text/plain": [
       "      mpg  cylinders  displacement horsepower  weight  acceleration  year  \\\n",
       "0    18.0          8         307.0        130    3504          12.0    70   \n",
       "1    15.0          8         350.0        165    3693          11.5    70   \n",
       "2    18.0          8         318.0        150    3436          11.0    70   \n",
       "3    16.0          8         304.0        150    3433          12.0    70   \n",
       "4    17.0          8         302.0        140    3449          10.5    70   \n",
       "..    ...        ...           ...        ...     ...           ...   ...   \n",
       "393  27.0          4         140.0         86    2790          15.6    82   \n",
       "394  44.0          4          97.0         52    2130          24.6    82   \n",
       "395  32.0          4         135.0         84    2295          11.6    82   \n",
       "396  28.0          4         120.0         79    2625          18.6    82   \n",
       "397  31.0          4         119.0         82    2720          19.4    82   \n",
       "\n",
       "     origin                       name  \n",
       "0         1  chevrolet chevelle malibu  \n",
       "1         1          buick skylark 320  \n",
       "2         1         plymouth satellite  \n",
       "3         1              amc rebel sst  \n",
       "4         1                ford torino  \n",
       "..      ...                        ...  \n",
       "393       1            ford mustang gl  \n",
       "394       2                  vw pickup  \n",
       "395       1              dodge rampage  \n",
       "396       1                ford ranger  \n",
       "397       1                 chevy s-10  \n",
       "\n",
       "[398 rows x 9 columns]"
      ]
     },
     "metadata": {},
     "output_type": "display_data"
    }
   ],
   "source": [
    "pd.set_option(\"display.max_columns\", 20)\n",
    "pd.set_option(\"display.max_rows\", 50)\n",
    "display(df)"
   ]
  },
  {
   "cell_type": "markdown",
   "metadata": {
    "id": "ceS8VszPPc-u"
   },
   "source": [
    "It is possible to generate a second data frame to display statistical information about the first data frame.\n"
   ]
  },
  {
   "cell_type": "code",
   "execution_count": 5,
   "metadata": {},
   "outputs": [
    {
     "data": {
      "text/html": [
       "<div>\n",
       "<style scoped>\n",
       "    .dataframe tbody tr th:only-of-type {\n",
       "        vertical-align: middle;\n",
       "    }\n",
       "\n",
       "    .dataframe tbody tr th {\n",
       "        vertical-align: top;\n",
       "    }\n",
       "\n",
       "    .dataframe thead th {\n",
       "        text-align: right;\n",
       "    }\n",
       "</style>\n",
       "<table border=\"1\" class=\"dataframe\">\n",
       "  <thead>\n",
       "    <tr style=\"text-align: right;\">\n",
       "      <th></th>\n",
       "      <th>mpg</th>\n",
       "      <th>cylinders</th>\n",
       "      <th>displacement</th>\n",
       "      <th>weight</th>\n",
       "      <th>acceleration</th>\n",
       "      <th>year</th>\n",
       "      <th>origin</th>\n",
       "    </tr>\n",
       "  </thead>\n",
       "  <tbody>\n",
       "    <tr>\n",
       "      <th>count</th>\n",
       "      <td>398.000000</td>\n",
       "      <td>398.000000</td>\n",
       "      <td>398.000000</td>\n",
       "      <td>398.000000</td>\n",
       "      <td>398.000000</td>\n",
       "      <td>398.000000</td>\n",
       "      <td>398.000000</td>\n",
       "    </tr>\n",
       "    <tr>\n",
       "      <th>mean</th>\n",
       "      <td>23.514573</td>\n",
       "      <td>5.454774</td>\n",
       "      <td>193.425879</td>\n",
       "      <td>2970.424623</td>\n",
       "      <td>15.568090</td>\n",
       "      <td>76.010050</td>\n",
       "      <td>1.572864</td>\n",
       "    </tr>\n",
       "    <tr>\n",
       "      <th>std</th>\n",
       "      <td>7.815984</td>\n",
       "      <td>1.701004</td>\n",
       "      <td>104.269838</td>\n",
       "      <td>846.841774</td>\n",
       "      <td>2.757689</td>\n",
       "      <td>3.697627</td>\n",
       "      <td>0.802055</td>\n",
       "    </tr>\n",
       "    <tr>\n",
       "      <th>min</th>\n",
       "      <td>9.000000</td>\n",
       "      <td>3.000000</td>\n",
       "      <td>68.000000</td>\n",
       "      <td>1613.000000</td>\n",
       "      <td>8.000000</td>\n",
       "      <td>70.000000</td>\n",
       "      <td>1.000000</td>\n",
       "    </tr>\n",
       "    <tr>\n",
       "      <th>25%</th>\n",
       "      <td>17.500000</td>\n",
       "      <td>4.000000</td>\n",
       "      <td>104.250000</td>\n",
       "      <td>2223.750000</td>\n",
       "      <td>13.825000</td>\n",
       "      <td>73.000000</td>\n",
       "      <td>1.000000</td>\n",
       "    </tr>\n",
       "    <tr>\n",
       "      <th>50%</th>\n",
       "      <td>23.000000</td>\n",
       "      <td>4.000000</td>\n",
       "      <td>148.500000</td>\n",
       "      <td>2803.500000</td>\n",
       "      <td>15.500000</td>\n",
       "      <td>76.000000</td>\n",
       "      <td>1.000000</td>\n",
       "    </tr>\n",
       "    <tr>\n",
       "      <th>75%</th>\n",
       "      <td>29.000000</td>\n",
       "      <td>8.000000</td>\n",
       "      <td>262.000000</td>\n",
       "      <td>3608.000000</td>\n",
       "      <td>17.175000</td>\n",
       "      <td>79.000000</td>\n",
       "      <td>2.000000</td>\n",
       "    </tr>\n",
       "    <tr>\n",
       "      <th>max</th>\n",
       "      <td>46.600000</td>\n",
       "      <td>8.000000</td>\n",
       "      <td>455.000000</td>\n",
       "      <td>5140.000000</td>\n",
       "      <td>24.800000</td>\n",
       "      <td>82.000000</td>\n",
       "      <td>3.000000</td>\n",
       "    </tr>\n",
       "  </tbody>\n",
       "</table>\n",
       "</div>"
      ],
      "text/plain": [
       "              mpg   cylinders  displacement       weight  acceleration  \\\n",
       "count  398.000000  398.000000    398.000000   398.000000    398.000000   \n",
       "mean    23.514573    5.454774    193.425879  2970.424623     15.568090   \n",
       "std      7.815984    1.701004    104.269838   846.841774      2.757689   \n",
       "min      9.000000    3.000000     68.000000  1613.000000      8.000000   \n",
       "25%     17.500000    4.000000    104.250000  2223.750000     13.825000   \n",
       "50%     23.000000    4.000000    148.500000  2803.500000     15.500000   \n",
       "75%     29.000000    8.000000    262.000000  3608.000000     17.175000   \n",
       "max     46.600000    8.000000    455.000000  5140.000000     24.800000   \n",
       "\n",
       "             year      origin  \n",
       "count  398.000000  398.000000  \n",
       "mean    76.010050    1.572864  \n",
       "std      3.697627    0.802055  \n",
       "min     70.000000    1.000000  \n",
       "25%     73.000000    1.000000  \n",
       "50%     76.000000    1.000000  \n",
       "75%     79.000000    2.000000  \n",
       "max     82.000000    3.000000  "
      ]
     },
     "execution_count": 5,
     "metadata": {},
     "output_type": "execute_result"
    }
   ],
   "source": [
    "df.describe()"
   ]
  },
  {
   "cell_type": "code",
   "execution_count": 6,
   "metadata": {
    "colab": {
     "base_uri": "https://localhost:8080/"
    },
    "id": "0tVyccHpPc-u",
    "outputId": "1b7dd999-11cb-4e68-ec75-410af5eac1bf"
   },
   "outputs": [
    {
     "name": "stdout",
     "output_type": "stream",
     "text": [
      "{'name': 'mpg', 'mean': 23.514572864321607, 'var': 61.089610774274405, 'sdev': 7.815984312565782}\n",
      "{'name': 'cylinders', 'mean': 5.454773869346734, 'var': 2.893415439920003, 'sdev': 1.7010042445332119}\n",
      "{'name': 'displacement', 'mean': 193.42587939698493, 'var': 10872.199152247384, 'sdev': 104.26983817119591}\n",
      "{'name': 'weight', 'mean': 2970.424623115578, 'var': 717140.9905256763, 'sdev': 846.8417741973268}\n",
      "{'name': 'acceleration', 'mean': 15.568090452261307, 'var': 7.604848233611383, 'sdev': 2.757688929812676}\n",
      "{'name': 'year', 'mean': 76.01005025125629, 'var': 13.672442818627143, 'sdev': 3.697626646732623}\n",
      "{'name': 'origin', 'mean': 1.5728643216080402, 'var': 0.6432920268850549, 'sdev': 0.8020548777266148}\n"
     ]
    }
   ],
   "source": [
    "# Strip non-numerics\n",
    "df = df.select_dtypes(include=[\"int\", \"float\"])\n",
    "\n",
    "headers = list(df.columns.values)\n",
    "fields = []\n",
    "\n",
    "for field in headers:\n",
    "    fields.append(\n",
    "        {\n",
    "            \"name\": field,\n",
    "            \"mean\": df[field].mean(),\n",
    "            \"var\": df[field].var(),\n",
    "            \"sdev\": df[field].std(),\n",
    "        }\n",
    "    )\n",
    "\n",
    "for field in fields:\n",
    "    print(field)"
   ]
  },
  {
   "cell_type": "markdown",
   "metadata": {},
   "source": [
    "Certainly! Let's dissect this code snippet, step by step, to unravel its functionalities:\n",
    "\n",
    "### Step 1: Selecting Numeric Columns\n",
    "\n",
    "```python\n",
    "df = df.select_dtypes(include=[\"int\", \"float\"])\n",
    "```\n",
    "\n",
    "- **Purpose**: This line filters the DataFrame `df` to include only columns with data types `int` (integer) and `float` (floating-point number).\n",
    "- **How it works**: `select_dtypes` is a method in pandas that selects columns in a DataFrame based on their data type. Here, it's configured to include columns whose data type is either `int` or `float`. \n",
    "- **Result**: The DataFrame `df` is modified to only contain these numeric columns.\n",
    "\n",
    "### Step 2: Extracting Column Headers\n",
    "\n",
    "```python\n",
    "headers = list(df.columns.values)\n",
    "```\n",
    "\n",
    "- **Purpose**: This line extracts the column names (headers) of the modified DataFrame.\n",
    "- **How it works**: `df.columns` returns an Index object containing the column labels of the DataFrame. `df.columns.values` converts this Index into an array, and `list()` then converts this array into a list.\n",
    "- **Result**: `headers` is a list containing the names of all numeric columns in `df`.\n",
    "\n",
    "### Step 3: Initializing an Empty List for Field Summaries\n",
    "\n",
    "```python\n",
    "fields = []\n",
    "```\n",
    "\n",
    "- **Purpose**: This line initializes an empty list named `fields`. This list will be used to store dictionaries, each containing statistical summaries for a column in `df`.\n",
    "\n",
    "### Step 4: Looping Over Columns and Calculating Statistics\n",
    "\n",
    "```python\n",
    "for field in headers:\n",
    "    fields.append(\n",
    "        {\n",
    "            \"name\": field,\n",
    "            \"mean\": df[field].mean(),\n",
    "            \"var\": df[field].var(),\n",
    "            \"sdev\": df[field].std(),\n",
    "        }\n",
    "    )\n",
    "```\n",
    "\n",
    "- **Purpose**: This loop iterates over each column name in `headers` and computes statistics for each column.\n",
    "- **Details**:\n",
    "  - **`\"name\": field`**: Stores the name of the column.\n",
    "  - **`\"mean\": df[field].mean()`**: Calculates and stores the mean (average) of the column.\n",
    "  - **`\"var\": df[field].var()`**: Calculates and stores the variance of the column. Variance measures how much the data points in a column are spread out from their average value.\n",
    "  - **`\"sdev\": df[field].std()`**: Calculates and stores the standard deviation of the column, which is a measure of the amount of variation or dispersion in the column.\n",
    "- **Result**: Each iteration appends a dictionary with these statistics for a specific column to the list `fields`.\n",
    "\n",
    "### Step 5: Printing the Field Summaries\n",
    "\n",
    "```python\n",
    "for field in fields:\n",
    "    print(field)\n",
    "```\n",
    "\n",
    "- **Purpose**: This loop goes through each dictionary in the `fields` list and prints it.\n",
    "- **How it works**: Each `field` in the `fields` list is a dictionary containing statistical summaries for a column. This loop prints each of these dictionaries.\n",
    "- **Result**: The console (or output cell) displays the statistical summaries (mean, variance, standard deviation) for each numeric column in the DataFrame `df`.\n",
    "\n",
    "### Summary\n",
    "\n",
    "In essence, this code snippet is a data analysis tool for a pandas DataFrame. It filters out non-numeric columns, calculates basic statistical measures (mean, variance, standard deviation) for each numeric column, and prints these statistics in a readable format. This can be particularly useful for getting a quick overview of the numerical data in a DataFrame."
   ]
  },
  {
   "cell_type": "code",
   "execution_count": 7,
   "metadata": {
    "colab": {
     "base_uri": "https://localhost:8080/",
     "height": 269
    },
    "id": "W_96J6LJPc-u",
    "outputId": "18d39802-0f56-4b1a-a4a0-d924f50c90f5"
   },
   "outputs": [
    {
     "data": {
      "text/html": [
       "<div>\n",
       "<style scoped>\n",
       "    .dataframe tbody tr th:only-of-type {\n",
       "        vertical-align: middle;\n",
       "    }\n",
       "\n",
       "    .dataframe tbody tr th {\n",
       "        vertical-align: top;\n",
       "    }\n",
       "\n",
       "    .dataframe thead th {\n",
       "        text-align: right;\n",
       "    }\n",
       "</style>\n",
       "<table border=\"1\" class=\"dataframe\">\n",
       "  <thead>\n",
       "    <tr style=\"text-align: right;\">\n",
       "      <th></th>\n",
       "      <th>name</th>\n",
       "      <th>mean</th>\n",
       "      <th>var</th>\n",
       "      <th>sdev</th>\n",
       "    </tr>\n",
       "  </thead>\n",
       "  <tbody>\n",
       "    <tr>\n",
       "      <th>0</th>\n",
       "      <td>mpg</td>\n",
       "      <td>23.514573</td>\n",
       "      <td>61.089611</td>\n",
       "      <td>7.815984</td>\n",
       "    </tr>\n",
       "    <tr>\n",
       "      <th>1</th>\n",
       "      <td>cylinders</td>\n",
       "      <td>5.454774</td>\n",
       "      <td>2.893415</td>\n",
       "      <td>1.701004</td>\n",
       "    </tr>\n",
       "    <tr>\n",
       "      <th>2</th>\n",
       "      <td>displacement</td>\n",
       "      <td>193.425879</td>\n",
       "      <td>10872.199152</td>\n",
       "      <td>104.269838</td>\n",
       "    </tr>\n",
       "    <tr>\n",
       "      <th>3</th>\n",
       "      <td>weight</td>\n",
       "      <td>2970.424623</td>\n",
       "      <td>717140.990526</td>\n",
       "      <td>846.841774</td>\n",
       "    </tr>\n",
       "    <tr>\n",
       "      <th>4</th>\n",
       "      <td>acceleration</td>\n",
       "      <td>15.568090</td>\n",
       "      <td>7.604848</td>\n",
       "      <td>2.757689</td>\n",
       "    </tr>\n",
       "    <tr>\n",
       "      <th>5</th>\n",
       "      <td>year</td>\n",
       "      <td>76.010050</td>\n",
       "      <td>13.672443</td>\n",
       "      <td>3.697627</td>\n",
       "    </tr>\n",
       "    <tr>\n",
       "      <th>6</th>\n",
       "      <td>origin</td>\n",
       "      <td>1.572864</td>\n",
       "      <td>0.643292</td>\n",
       "      <td>0.802055</td>\n",
       "    </tr>\n",
       "  </tbody>\n",
       "</table>\n",
       "</div>"
      ],
      "text/plain": [
       "           name         mean            var        sdev\n",
       "0           mpg    23.514573      61.089611    7.815984\n",
       "1     cylinders     5.454774       2.893415    1.701004\n",
       "2  displacement   193.425879   10872.199152  104.269838\n",
       "3        weight  2970.424623  717140.990526  846.841774\n",
       "4  acceleration    15.568090       7.604848    2.757689\n",
       "5          year    76.010050      13.672443    3.697627\n",
       "6        origin     1.572864       0.643292    0.802055"
      ]
     },
     "metadata": {},
     "output_type": "display_data"
    }
   ],
   "source": [
    "pd.set_option(\"display.max_columns\", 0)\n",
    "pd.set_option(\"display.max_rows\", 0)\n",
    "df2 = pd.DataFrame(fields)\n",
    "display(df2)"
   ]
  },
  {
   "cell_type": "markdown",
   "metadata": {
    "id": "dt4tH5P4Pc-u"
   },
   "source": [
    "This code outputs a list of dictionaries that hold this statistical information. This information looks similar to the JSON code seen in Module 1. If proper JSON is needed, the program should add these records to a list and call the Python JSON library's **dumps** command.\n",
    "\n",
    "The Python program can convert this JSON-like information to a data frame for better display.\n",
    "\n",
    "\n",
    "Lets conver that into a function for future use shall we.\n"
   ]
  },
  {
   "cell_type": "code",
   "execution_count": 8,
   "metadata": {
    "scrolled": true
   },
   "outputs": [
    {
     "data": {
      "text/html": [
       "<div>\n",
       "<style scoped>\n",
       "    .dataframe tbody tr th:only-of-type {\n",
       "        vertical-align: middle;\n",
       "    }\n",
       "\n",
       "    .dataframe tbody tr th {\n",
       "        vertical-align: top;\n",
       "    }\n",
       "\n",
       "    .dataframe thead th {\n",
       "        text-align: right;\n",
       "    }\n",
       "</style>\n",
       "<table border=\"1\" class=\"dataframe\">\n",
       "  <thead>\n",
       "    <tr style=\"text-align: right;\">\n",
       "      <th></th>\n",
       "      <th>name</th>\n",
       "      <th>mean</th>\n",
       "      <th>var</th>\n",
       "      <th>sdev</th>\n",
       "    </tr>\n",
       "  </thead>\n",
       "  <tbody>\n",
       "    <tr>\n",
       "      <th>0</th>\n",
       "      <td>mpg</td>\n",
       "      <td>23.514573</td>\n",
       "      <td>61.089611</td>\n",
       "      <td>7.815984</td>\n",
       "    </tr>\n",
       "    <tr>\n",
       "      <th>1</th>\n",
       "      <td>cylinders</td>\n",
       "      <td>5.454774</td>\n",
       "      <td>2.893415</td>\n",
       "      <td>1.701004</td>\n",
       "    </tr>\n",
       "    <tr>\n",
       "      <th>2</th>\n",
       "      <td>displacement</td>\n",
       "      <td>193.425879</td>\n",
       "      <td>10872.199152</td>\n",
       "      <td>104.269838</td>\n",
       "    </tr>\n",
       "    <tr>\n",
       "      <th>3</th>\n",
       "      <td>weight</td>\n",
       "      <td>2970.424623</td>\n",
       "      <td>717140.990526</td>\n",
       "      <td>846.841774</td>\n",
       "    </tr>\n",
       "    <tr>\n",
       "      <th>4</th>\n",
       "      <td>acceleration</td>\n",
       "      <td>15.568090</td>\n",
       "      <td>7.604848</td>\n",
       "      <td>2.757689</td>\n",
       "    </tr>\n",
       "    <tr>\n",
       "      <th>5</th>\n",
       "      <td>year</td>\n",
       "      <td>76.010050</td>\n",
       "      <td>13.672443</td>\n",
       "      <td>3.697627</td>\n",
       "    </tr>\n",
       "    <tr>\n",
       "      <th>6</th>\n",
       "      <td>origin</td>\n",
       "      <td>1.572864</td>\n",
       "      <td>0.643292</td>\n",
       "      <td>0.802055</td>\n",
       "    </tr>\n",
       "  </tbody>\n",
       "</table>\n",
       "</div>"
      ],
      "text/plain": [
       "           name         mean            var        sdev\n",
       "0           mpg    23.514573      61.089611    7.815984\n",
       "1     cylinders     5.454774       2.893415    1.701004\n",
       "2  displacement   193.425879   10872.199152  104.269838\n",
       "3        weight  2970.424623  717140.990526  846.841774\n",
       "4  acceleration    15.568090       7.604848    2.757689\n",
       "5          year    76.010050      13.672443    3.697627\n",
       "6        origin     1.572864       0.643292    0.802055"
      ]
     },
     "metadata": {},
     "output_type": "display_data"
    }
   ],
   "source": [
    "import pandas as pd\n",
    "\n",
    "def create_summary_dataframe(df, *dtypes):\n",
    "    \"\"\"\n",
    "    Creates a summary DataFrame from specified fields of the input DataFrame.\n",
    "\n",
    "    Args:\n",
    "    df (pd.DataFrame): The DataFrame to be summarized.\n",
    "    *dtypes: The data types to include in the summary.\n",
    "\n",
    "    Returns:\n",
    "    pd.DataFrame: A DataFrame containing summaries (mean, variance, standard deviation) of specified fields.\n",
    "    \"\"\"\n",
    "    # Select columns of specified data types\n",
    "    selected_df = df.select_dtypes(include=dtypes)\n",
    "\n",
    "    headers = list(selected_df.columns.values)\n",
    "    fields = []\n",
    "\n",
    "    # Calculate statistics for each field\n",
    "    for field in headers:\n",
    "        fields.append(\n",
    "            {\n",
    "                \"name\": field,\n",
    "                \"mean\": selected_df[field].mean(),\n",
    "                \"var\": selected_df[field].var(),\n",
    "                \"sdev\": selected_df[field].std(),\n",
    "            }\n",
    "        )\n",
    "\n",
    "    # Create a new DataFrame from the fields\n",
    "    \n",
    "    return pd.DataFrame(fields)\n",
    "\n",
    "# Example usage:\n",
    "summary_df = create_summary_dataframe(df, \"int\", \"float\")\n",
    "display(summary_df)\n"
   ]
  },
  {
   "cell_type": "markdown",
   "metadata": {
    "id": "C9_Ee4zQPc-v"
   },
   "source": [
    "## Missing Values\n",
    "\n",
    "Missing values are an inescapable aspect of data handling in machine learning, often leading to the necessity of making decisions on how to deal with them effectively. It's not uncommon to encounter datasets where some columns are incomplete. For instance, in the MPG database, while most columns are filled, the 'horsepower' column has some missing values. A standard method to address this issue is to fill in these missing values with a representative statistic of the column. The median is frequently chosen for this purpose, and there's a good reason for that.\r\n",
    "\r\n",
    "The choice between using the mean (average) and the median (the middle value when all values are sorted) to fill in missing values hinges on the nature of the data, particularly its susceptibility to outliers. The mean is sensitive to extreme values, or outliers, which can skew the average significantly, leading to a misleading fill value. The median, on the other hand, is more robust in the presence of outliers, as it is merely the middle value and unaffected by how extreme the outliers are.\r\n",
    "\r\n",
    "Let's illustrate this with an example involving the calculation of net worth:\r\n",
    "\r\n",
    "### Example: Calculating Missing Net Worth Values\r\n",
    "\r\n",
    "Imagine you're assessing the net worth of a group of ordinary individuals. Most have net worths ranging from $50,000 to $200,000. The mean and median of this group would likely be close to each other, within this range, making either a reasonable choice for filling in missing values.\r\n",
    "\r\n",
    "However, suppose you then include Elon Musk, with a net worth in the billions, into this group. His inclusion would dramatically increase the mean net worth, potentially to a figure in the tens or hundreds of millions. This is clearly not representative of the group as a whole. In such a case, the median, likely still within the $50,000 to $200,000 range, remains a more accurate representation of an \"average\" person in the dataset.\r\n",
    "\r\n",
    "### Using Median in the MPG Database Example\r\n",
    "\r\n",
    "Applying this concept to the MPG database, if 'horsepower' data has outliers (such as a few cars with exceptionally high horsepower), using the mean to fill missing values could give a skewed impression, suggesting cars are generally more powerful than they are. The median, unaffected by these extreme values, provides a more realistic fill value, representing a typical car in the database.\r\n",
    "\r\n",
    "In summary, the median is preferred over the mean for filling missing values in scenarios where the data is skewed or contains outliers. This approach ensures a more accurate and representative treatment of the missing data, especially important in machine learning where data quality significantly impacts model performance.\n"
   ]
  },
  {
   "cell_type": "code",
   "execution_count": 9,
   "metadata": {
    "colab": {
     "base_uri": "https://localhost:8080/"
    },
    "id": "FIXbcwg4Pc-v",
    "outputId": "df3e1d85-17b8-44bc-cb74-b6313108b247"
   },
   "outputs": [
    {
     "data": {
      "text/html": [
       "<div>\n",
       "<style scoped>\n",
       "    .dataframe tbody tr th:only-of-type {\n",
       "        vertical-align: middle;\n",
       "    }\n",
       "\n",
       "    .dataframe tbody tr th {\n",
       "        vertical-align: top;\n",
       "    }\n",
       "\n",
       "    .dataframe thead th {\n",
       "        text-align: right;\n",
       "    }\n",
       "</style>\n",
       "<table border=\"1\" class=\"dataframe\">\n",
       "  <thead>\n",
       "    <tr style=\"text-align: right;\">\n",
       "      <th></th>\n",
       "      <th>mpg</th>\n",
       "      <th>cylinders</th>\n",
       "      <th>displacement</th>\n",
       "      <th>horsepower</th>\n",
       "      <th>weight</th>\n",
       "      <th>acceleration</th>\n",
       "      <th>year</th>\n",
       "      <th>origin</th>\n",
       "      <th>name</th>\n",
       "    </tr>\n",
       "  </thead>\n",
       "  <tbody>\n",
       "    <tr>\n",
       "      <th>102</th>\n",
       "      <td>26.0</td>\n",
       "      <td>4</td>\n",
       "      <td>97.0</td>\n",
       "      <td>46.0</td>\n",
       "      <td>1950</td>\n",
       "      <td>21.0</td>\n",
       "      <td>73</td>\n",
       "      <td>2</td>\n",
       "      <td>volkswagen super beetle</td>\n",
       "    </tr>\n",
       "    <tr>\n",
       "      <th>210</th>\n",
       "      <td>19.0</td>\n",
       "      <td>6</td>\n",
       "      <td>156.0</td>\n",
       "      <td>108.0</td>\n",
       "      <td>2930</td>\n",
       "      <td>15.5</td>\n",
       "      <td>76</td>\n",
       "      <td>3</td>\n",
       "      <td>toyota mark ii</td>\n",
       "    </tr>\n",
       "    <tr>\n",
       "      <th>136</th>\n",
       "      <td>16.0</td>\n",
       "      <td>8</td>\n",
       "      <td>302.0</td>\n",
       "      <td>140.0</td>\n",
       "      <td>4141</td>\n",
       "      <td>14.0</td>\n",
       "      <td>74</td>\n",
       "      <td>1</td>\n",
       "      <td>ford gran torino</td>\n",
       "    </tr>\n",
       "    <tr>\n",
       "      <th>64</th>\n",
       "      <td>15.0</td>\n",
       "      <td>8</td>\n",
       "      <td>318.0</td>\n",
       "      <td>150.0</td>\n",
       "      <td>4135</td>\n",
       "      <td>13.5</td>\n",
       "      <td>72</td>\n",
       "      <td>1</td>\n",
       "      <td>plymouth fury iii</td>\n",
       "    </tr>\n",
       "    <tr>\n",
       "      <th>208</th>\n",
       "      <td>13.0</td>\n",
       "      <td>8</td>\n",
       "      <td>318.0</td>\n",
       "      <td>150.0</td>\n",
       "      <td>3940</td>\n",
       "      <td>13.2</td>\n",
       "      <td>76</td>\n",
       "      <td>1</td>\n",
       "      <td>plymouth volare premier v8</td>\n",
       "    </tr>\n",
       "  </tbody>\n",
       "</table>\n",
       "</div>"
      ],
      "text/plain": [
       "      mpg  cylinders  displacement  horsepower  weight  acceleration  year  origin                        name\n",
       "102  26.0          4          97.0        46.0    1950          21.0    73       2     volkswagen super beetle\n",
       "210  19.0          6         156.0       108.0    2930          15.5    76       3              toyota mark ii\n",
       "136  16.0          8         302.0       140.0    4141          14.0    74       1            ford gran torino\n",
       "64   15.0          8         318.0       150.0    4135          13.5    72       1           plymouth fury iii\n",
       "208  13.0          8         318.0       150.0    3940          13.2    76       1  plymouth volare premier v8"
      ]
     },
     "execution_count": 9,
     "metadata": {},
     "output_type": "execute_result"
    }
   ],
   "source": [
    "url = \"https://data.heatonresearch.com/data/t81-558/auto-mpg.csv\"\n",
    "mpg_data = pd.read_csv(url, na_values=[\"NA\", \"?\"])\n",
    "mpg_data.sample(5, random_state=43)"
   ]
  },
  {
   "cell_type": "markdown",
   "metadata": {},
   "source": [
    "`na_values=[\"NA\", \"?\"]`: This parameter within the `read_csv` function specifies additional strings to recognize as NA/NaN (Not a Number). By default, pandas recognizes strings like '', '#N/A', '#N/A N/A', '#NA', '-1.#IND', '-1.#QNAN', '-NaN', '-nan', '1.#IND', '1.#QNAN', 'N/A', 'NA', 'NULL', 'NaN', 'n/a', 'nan', 'null'. In this case, \"NA\" and \"?\" are added to this list, meaning that if the CSV file contains these values, pandas will interpret them as missing values."
   ]
  },
  {
   "cell_type": "code",
   "execution_count": 10,
   "metadata": {},
   "outputs": [
    {
     "name": "stdout",
     "output_type": "stream",
     "text": [
      "horsepower has Nan? True\n"
     ]
    }
   ],
   "source": [
    "print(f\"horsepower has Nan? {pd.isnull(mpg_data['horsepower']).values.any()}\")"
   ]
  },
  {
   "cell_type": "code",
   "execution_count": 11,
   "metadata": {
    "colab": {
     "base_uri": "https://localhost:8080/"
    },
    "id": "FIXbcwg4Pc-v",
    "outputId": "df3e1d85-17b8-44bc-cb74-b6313108b247"
   },
   "outputs": [
    {
     "data": {
      "text/html": [
       "<div>\n",
       "<style scoped>\n",
       "    .dataframe tbody tr th:only-of-type {\n",
       "        vertical-align: middle;\n",
       "    }\n",
       "\n",
       "    .dataframe tbody tr th {\n",
       "        vertical-align: top;\n",
       "    }\n",
       "\n",
       "    .dataframe thead th {\n",
       "        text-align: right;\n",
       "    }\n",
       "</style>\n",
       "<table border=\"1\" class=\"dataframe\">\n",
       "  <thead>\n",
       "    <tr style=\"text-align: right;\">\n",
       "      <th></th>\n",
       "      <th>mpg</th>\n",
       "      <th>cylinders</th>\n",
       "      <th>displacement</th>\n",
       "      <th>horsepower</th>\n",
       "      <th>weight</th>\n",
       "      <th>acceleration</th>\n",
       "      <th>year</th>\n",
       "      <th>origin</th>\n",
       "      <th>name</th>\n",
       "    </tr>\n",
       "  </thead>\n",
       "  <tbody>\n",
       "    <tr>\n",
       "      <th>102</th>\n",
       "      <td>26.0</td>\n",
       "      <td>4</td>\n",
       "      <td>97.0</td>\n",
       "      <td>46.0</td>\n",
       "      <td>1950</td>\n",
       "      <td>21.0</td>\n",
       "      <td>73</td>\n",
       "      <td>2</td>\n",
       "      <td>volkswagen super beetle</td>\n",
       "    </tr>\n",
       "    <tr>\n",
       "      <th>210</th>\n",
       "      <td>19.0</td>\n",
       "      <td>6</td>\n",
       "      <td>156.0</td>\n",
       "      <td>108.0</td>\n",
       "      <td>2930</td>\n",
       "      <td>15.5</td>\n",
       "      <td>76</td>\n",
       "      <td>3</td>\n",
       "      <td>toyota mark ii</td>\n",
       "    </tr>\n",
       "    <tr>\n",
       "      <th>136</th>\n",
       "      <td>16.0</td>\n",
       "      <td>8</td>\n",
       "      <td>302.0</td>\n",
       "      <td>140.0</td>\n",
       "      <td>4141</td>\n",
       "      <td>14.0</td>\n",
       "      <td>74</td>\n",
       "      <td>1</td>\n",
       "      <td>ford gran torino</td>\n",
       "    </tr>\n",
       "    <tr>\n",
       "      <th>64</th>\n",
       "      <td>15.0</td>\n",
       "      <td>8</td>\n",
       "      <td>318.0</td>\n",
       "      <td>150.0</td>\n",
       "      <td>4135</td>\n",
       "      <td>13.5</td>\n",
       "      <td>72</td>\n",
       "      <td>1</td>\n",
       "      <td>plymouth fury iii</td>\n",
       "    </tr>\n",
       "    <tr>\n",
       "      <th>208</th>\n",
       "      <td>13.0</td>\n",
       "      <td>8</td>\n",
       "      <td>318.0</td>\n",
       "      <td>150.0</td>\n",
       "      <td>3940</td>\n",
       "      <td>13.2</td>\n",
       "      <td>76</td>\n",
       "      <td>1</td>\n",
       "      <td>plymouth volare premier v8</td>\n",
       "    </tr>\n",
       "  </tbody>\n",
       "</table>\n",
       "</div>"
      ],
      "text/plain": [
       "      mpg  cylinders  displacement  horsepower  weight  acceleration  year  origin                        name\n",
       "102  26.0          4          97.0        46.0    1950          21.0    73       2     volkswagen super beetle\n",
       "210  19.0          6         156.0       108.0    2930          15.5    76       3              toyota mark ii\n",
       "136  16.0          8         302.0       140.0    4141          14.0    74       1            ford gran torino\n",
       "64   15.0          8         318.0       150.0    4135          13.5    72       1           plymouth fury iii\n",
       "208  13.0          8         318.0       150.0    3940          13.2    76       1  plymouth volare premier v8"
      ]
     },
     "execution_count": 11,
     "metadata": {},
     "output_type": "execute_result"
    }
   ],
   "source": [
    "def fill_na(df):\n",
    "    return (df\n",
    "            .assign(horsepower = df[\"horsepower\"]\n",
    "                    .fillna(df[\"horsepower\"].median()))\n",
    "           )\n",
    "\n",
    "mpg_data = fill_na(mpg_data)\n",
    "mpg_data.sample(5, random_state=43)"
   ]
  },
  {
   "cell_type": "code",
   "execution_count": 12,
   "metadata": {
    "colab": {
     "base_uri": "https://localhost:8080/"
    },
    "id": "FIXbcwg4Pc-v",
    "outputId": "df3e1d85-17b8-44bc-cb74-b6313108b247"
   },
   "outputs": [
    {
     "name": "stdout",
     "output_type": "stream",
     "text": [
      "horsepower has NaN? False\n"
     ]
    }
   ],
   "source": [
    "print(f\"horsepower has NaN? {pd.isnull(mpg_data['horsepower']).values.any()}\")"
   ]
  },
  {
   "cell_type": "markdown",
   "metadata": {
    "id": "NBzk21ypPc-v"
   },
   "source": [
    "## Dealing with Outliers\n",
    "\n",
    "Outliers are data points that significantly differ from other observations in a dataset. They appear as unusually high or low values compared to the rest. Commonly, outliers are defined as values that lie at a considerable distance from the mean, often more than a few standard deviations away. Their presence can be attributed to various factors: sometimes they're the result of errors in data collection or entry, and other times they represent actual but rare occurrences that deviate markedly from the norm.\r\n",
    "\r\n",
    "Addressing outliers is crucial because they can skew statistical analyses and distort the overall data interpretation, leading to misleading results. One common method to handle outliers is to remove them from the dataset. This can be done programmatically by defining a threshold, such as values that are a certain number of standard deviations away from the mean, and then excluding these from analyses.\r\n",
    "\r\n",
    "### Visual Inspection of Outliers:\r\n",
    "\r\n",
    "Besides numerical methods, visual techniques are often employed to identify outliers. Plots are a powerful tool for this:\r\n",
    "\r\n",
    "1. **Box Plot**: A box plot is a standardized way of displaying the dataset based on a five-number summary: minimum, first quartile (Q1), median, third quartile (Q3), and maximum. It can provide a visual indication of the distribution of the data, highlighting potential outliers. In a box plot, outliers are typically indicated by dots or asterisks outside the 'whiskers'.\r\n",
    "\r\n",
    "2. **Scatter Plot**: Useful particularly for bivariate data, scatter plots allow you to see the full distribution of the data points. Outliers are easily spotted as points that fall far away from the cloud of other data points.\r\n",
    "\r\n",
    "3. **Histogram**: While histograms don't pinpoint outliers as precisely as box plots, they're useful for understanding the distribution of your data. Outliers may cause the histogram to be skewed or have a very long tail.\r\n",
    "\r\n",
    "By combining both visual and analytical methods, you can more effectively detect and handle outliers, leading to more robust and reliable data analysis.\n"
   ]
  },
  {
   "cell_type": "code",
   "execution_count": 13,
   "metadata": {},
   "outputs": [
    {
     "data": {
      "image/png": "[encoded data removed]",
      "text/plain": [
       "<Figure size 640x480 with 1 Axes>"
      ]
     },
     "metadata": {},
     "output_type": "display_data"
    }
   ],
   "source": [
    "import seaborn as sns\n",
    "import matplotlib.pyplot as plt\n",
    "\n",
    "# Assuming 'df' is your DataFrame and 'column_name' is the name of the column\n",
    "sns.boxplot(x=mpg_data['horsepower'])\n",
    "plt.show();"
   ]
  },
  {
   "cell_type": "markdown",
   "metadata": {
    "id": "lHl573XqPc-v"
   },
   "source": [
    "\r\n",
    "### 1. First Function:\r\n",
    "```python\r\n",
    "def remove_outliers(df, name, sd):\r\n",
    "    drop_rows = (df.index[(np.abs(df[name] - df[name].mean())\r\n",
    "                          >= (sd * df[name].std()))])\r\n",
    "    df.drop(drop_rows, axis=0, inplace=True)\r\n",
    "```\r\n",
    "- **Functionality**: This function identifies rows where the value in the specified column (`name`) deviates from the mean by more than `sd` standard deviations. It then directly drops these rows from the original DataFrame `df`.\r\n",
    "- **In-Place Modification**: It modifies the DataFrame in place, meaning the original DataFrame `df` is changed and rows are permanently removed.\r\n",
    "- **Return Value**: It doesn't return anything since the operation is done in place.\r\n",
    "\r\n",
    "### 2. Second Function:\r\n",
    "```python\r\n",
    "def remove_outliers(df, name, sd):\r\n",
    "    return df[(np.abs(df[name] - df[name].mean()) < (sd * df[name].std()))]\r\n",
    "```\r\n",
    "- **Functionality**: Similar to the first, this function identifies rows to keep, those where the value in `name` is within `sd` standard deviations from the mean.\r\n",
    "- **Non-Destructive**: It returns a new DataFrame with the outliers removed. The original DataFrame `df` is not modified.\r\n",
    "- **Return Value**: Returns the modified DataFrame, which needs to be captured or assigned to a variable if the change is to be retained.\r\n",
    "\r\n",
    "### 3. Third Function:\r\n",
    "```python\r\n",
    "def remove_outliers(df, name, sd):\r\n",
    "    condition = (np.abs(df[name] - df[name].mean()) >= (sd * df[name].std()))\r\n",
    "    return df[~condition]\r\n",
    "```\r\n",
    "- **Functionality**: This function calculates a condition that identifies outliers (similar to the first function) but uses the negation of this condition (`~condition`) to keep the non-outliers.\r\n",
    "- **Non-Destructive**: Like the second function, it returns a new DataFrame with outliers removed, leaving the original DataFrame unchanged.\r\n",
    "- **Return Value**: Returns a new DataFrame where rows considered outliers have been removed.\r\n",
    "\r\n",
    "### Removing Outliers Based on Standard Deviation:\r\n",
    "\r\n",
    "The rationale behind using standard deviation to identify outliers is based on the properties of the normal distribution (bell curve):\r\n",
    "- In a normal distribution, about 68% of the data falls within one standard deviation of the mean, 95% within two standard deviations, and 99.7% within three standard deviations.\r\n",
    "- Therefore, points that fall several standard deviations away from the mean (commonly more than 2 or 3) are rare under a normal distribution and can be considered outliers.\r\n",
    "- This method is effective for data that approximates a normal distribution but may not be as appropriate for other distributions.\r\n",
    "\r\n",
    "By using standard deviation as a measure to filter out outliers, these functions aim to eliminate data points that are statistically unusual and could potentially skew the analysis.n explicit `condition` variable for clarity."
   ]
  },
  {
   "cell_type": "markdown",
   "metadata": {
    "id": "SXfJZGyqPc-v"
   },
   "source": [
    "The code below will drop every row from the Auto MPG dataset where the horsepower is two standard deviations or more above or below the mean.\n"
   ]
  },
  {
   "cell_type": "code",
   "execution_count": 14,
   "metadata": {},
   "outputs": [
    {
     "data": {
      "text/plain": [
       "6"
      ]
     },
     "execution_count": 14,
     "metadata": {},
     "output_type": "execute_result"
    }
   ],
   "source": [
    "(pd.read_csv(url, na_values=[\"NA\", \"?\"])\n",
    ").isna().sum().sum()"
   ]
  },
  {
   "cell_type": "code",
   "execution_count": 15,
   "metadata": {},
   "outputs": [
    {
     "name": "stdout",
     "output_type": "stream",
     "text": [
      "['mpg', 'cylinders', 'displacement', 'horsepower', 'weight', 'acceleration', 'year', 'origin', 'name']\n"
     ]
    }
   ],
   "source": [
    "raw = (pd.read_csv(url, na_values=[\"NA\", \"?\"])\n",
    ")\n",
    "\n",
    "print(raw.columns.to_list())"
   ]
  },
  {
   "cell_type": "code",
   "execution_count": 16,
   "metadata": {},
   "outputs": [
    {
     "name": "stdout",
     "output_type": "stream",
     "text": [
      "Length before MPG outliers dropped: 398\n"
     ]
    },
    {
     "data": {
      "text/html": [
       "<div>\n",
       "<style scoped>\n",
       "    .dataframe tbody tr th:only-of-type {\n",
       "        vertical-align: middle;\n",
       "    }\n",
       "\n",
       "    .dataframe tbody tr th {\n",
       "        vertical-align: top;\n",
       "    }\n",
       "\n",
       "    .dataframe thead th {\n",
       "        text-align: right;\n",
       "    }\n",
       "</style>\n",
       "<table border=\"1\" class=\"dataframe\">\n",
       "  <thead>\n",
       "    <tr style=\"text-align: right;\">\n",
       "      <th></th>\n",
       "      <th>mpg</th>\n",
       "      <th>cylinders</th>\n",
       "      <th>displacement</th>\n",
       "      <th>horsepower</th>\n",
       "      <th>weight</th>\n",
       "      <th>acceleration</th>\n",
       "      <th>year</th>\n",
       "      <th>origin</th>\n",
       "    </tr>\n",
       "  </thead>\n",
       "  <tbody>\n",
       "    <tr>\n",
       "      <th>102</th>\n",
       "      <td>26.0</td>\n",
       "      <td>4</td>\n",
       "      <td>97.0</td>\n",
       "      <td>46.0</td>\n",
       "      <td>1950</td>\n",
       "      <td>21.0</td>\n",
       "      <td>73</td>\n",
       "      <td>2</td>\n",
       "    </tr>\n",
       "    <tr>\n",
       "      <th>210</th>\n",
       "      <td>19.0</td>\n",
       "      <td>6</td>\n",
       "      <td>156.0</td>\n",
       "      <td>108.0</td>\n",
       "      <td>2930</td>\n",
       "      <td>15.5</td>\n",
       "      <td>76</td>\n",
       "      <td>3</td>\n",
       "    </tr>\n",
       "    <tr>\n",
       "      <th>136</th>\n",
       "      <td>16.0</td>\n",
       "      <td>8</td>\n",
       "      <td>302.0</td>\n",
       "      <td>140.0</td>\n",
       "      <td>4141</td>\n",
       "      <td>14.0</td>\n",
       "      <td>74</td>\n",
       "      <td>1</td>\n",
       "    </tr>\n",
       "    <tr>\n",
       "      <th>64</th>\n",
       "      <td>15.0</td>\n",
       "      <td>8</td>\n",
       "      <td>318.0</td>\n",
       "      <td>150.0</td>\n",
       "      <td>4135</td>\n",
       "      <td>13.5</td>\n",
       "      <td>72</td>\n",
       "      <td>1</td>\n",
       "    </tr>\n",
       "    <tr>\n",
       "      <th>208</th>\n",
       "      <td>13.0</td>\n",
       "      <td>8</td>\n",
       "      <td>318.0</td>\n",
       "      <td>150.0</td>\n",
       "      <td>3940</td>\n",
       "      <td>13.2</td>\n",
       "      <td>76</td>\n",
       "      <td>1</td>\n",
       "    </tr>\n",
       "  </tbody>\n",
       "</table>\n",
       "</div>"
      ],
      "text/plain": [
       "      mpg  cylinders  displacement  horsepower  weight  acceleration  year  origin\n",
       "102  26.0          4          97.0        46.0    1950          21.0    73       2\n",
       "210  19.0          6         156.0       108.0    2930          15.5    76       3\n",
       "136  16.0          8         302.0       140.0    4141          14.0    74       1\n",
       "64   15.0          8         318.0       150.0    4135          13.5    72       1\n",
       "208  13.0          8         318.0       150.0    3940          13.2    76       1"
      ]
     },
     "execution_count": 16,
     "metadata": {},
     "output_type": "execute_result"
    }
   ],
   "source": [
    "def clean_data(data):\n",
    "    return (data\n",
    "     .assign(horsepower = lambda x: x['horsepower']\n",
    "             .fillna(x['horsepower'].median())\n",
    "            )\n",
    "     .drop(\"name\", axis=1)\n",
    "     )\n",
    "\n",
    "df = clean_data(raw)\n",
    "print(f\"Length before MPG outliers dropped: {len(df)}\")\n",
    "df.sample(5, random_state=43)"
   ]
  },
  {
   "cell_type": "code",
   "execution_count": 17,
   "metadata": {},
   "outputs": [],
   "source": [
    "def remove_outliers(df, name, sd):\n",
    "    condition = (np.abs(df[name] - df[name].mean()) >= (sd * df[name].std()))\n",
    "    return df[~condition]"
   ]
  },
  {
   "cell_type": "code",
   "execution_count": 18,
   "metadata": {},
   "outputs": [
    {
     "name": "stdout",
     "output_type": "stream",
     "text": [
      "Length after MPG outliers dropped: 388\n"
     ]
    },
    {
     "data": {
      "text/html": [
       "<div>\n",
       "<style scoped>\n",
       "    .dataframe tbody tr th:only-of-type {\n",
       "        vertical-align: middle;\n",
       "    }\n",
       "\n",
       "    .dataframe tbody tr th {\n",
       "        vertical-align: top;\n",
       "    }\n",
       "\n",
       "    .dataframe thead th {\n",
       "        text-align: right;\n",
       "    }\n",
       "</style>\n",
       "<table border=\"1\" class=\"dataframe\">\n",
       "  <thead>\n",
       "    <tr style=\"text-align: right;\">\n",
       "      <th></th>\n",
       "      <th>mpg</th>\n",
       "      <th>cylinders</th>\n",
       "      <th>displacement</th>\n",
       "      <th>horsepower</th>\n",
       "      <th>weight</th>\n",
       "      <th>acceleration</th>\n",
       "      <th>year</th>\n",
       "      <th>origin</th>\n",
       "    </tr>\n",
       "  </thead>\n",
       "  <tbody>\n",
       "    <tr>\n",
       "      <th>142</th>\n",
       "      <td>26.0</td>\n",
       "      <td>4</td>\n",
       "      <td>79.0</td>\n",
       "      <td>67.0</td>\n",
       "      <td>1963</td>\n",
       "      <td>15.5</td>\n",
       "      <td>74</td>\n",
       "      <td>2</td>\n",
       "    </tr>\n",
       "    <tr>\n",
       "      <th>297</th>\n",
       "      <td>25.4</td>\n",
       "      <td>5</td>\n",
       "      <td>183.0</td>\n",
       "      <td>77.0</td>\n",
       "      <td>3530</td>\n",
       "      <td>20.1</td>\n",
       "      <td>79</td>\n",
       "      <td>2</td>\n",
       "    </tr>\n",
       "    <tr>\n",
       "      <th>82</th>\n",
       "      <td>23.0</td>\n",
       "      <td>4</td>\n",
       "      <td>120.0</td>\n",
       "      <td>97.0</td>\n",
       "      <td>2506</td>\n",
       "      <td>14.5</td>\n",
       "      <td>72</td>\n",
       "      <td>3</td>\n",
       "    </tr>\n",
       "    <tr>\n",
       "      <th>397</th>\n",
       "      <td>31.0</td>\n",
       "      <td>4</td>\n",
       "      <td>119.0</td>\n",
       "      <td>82.0</td>\n",
       "      <td>2720</td>\n",
       "      <td>19.4</td>\n",
       "      <td>82</td>\n",
       "      <td>1</td>\n",
       "    </tr>\n",
       "    <tr>\n",
       "      <th>44</th>\n",
       "      <td>13.0</td>\n",
       "      <td>8</td>\n",
       "      <td>400.0</td>\n",
       "      <td>175.0</td>\n",
       "      <td>5140</td>\n",
       "      <td>12.0</td>\n",
       "      <td>71</td>\n",
       "      <td>1</td>\n",
       "    </tr>\n",
       "  </tbody>\n",
       "</table>\n",
       "</div>"
      ],
      "text/plain": [
       "      mpg  cylinders  displacement  horsepower  weight  acceleration  year  origin\n",
       "142  26.0          4          79.0        67.0    1963          15.5    74       2\n",
       "297  25.4          5         183.0        77.0    3530          20.1    79       2\n",
       "82   23.0          4         120.0        97.0    2506          14.5    72       3\n",
       "397  31.0          4         119.0        82.0    2720          19.4    82       1\n",
       "44   13.0          8         400.0       175.0    5140          12.0    71       1"
      ]
     },
     "execution_count": 18,
     "metadata": {},
     "output_type": "execute_result"
    }
   ],
   "source": [
    "def clean_data(data):\n",
    "    return (data\n",
    "     .assign(horsepower = lambda x: x['horsepower']\n",
    "             .fillna(x['horsepower'].median())\n",
    "            )\n",
    "     .pipe(remove_outliers, \"mpg\", 2)\n",
    "     .drop(\"name\", axis=1)\n",
    "     )\n",
    "\n",
    "df = clean_data(raw)\n",
    "print(f\"Length after MPG outliers dropped: {len(df)}\")\n",
    "df.sample(5, random_state=43)"
   ]
  },
  {
   "cell_type": "code",
   "execution_count": 19,
   "metadata": {},
   "outputs": [
    {
     "data": {
      "image/png": "[encoded data removed]",
      "text/plain": [
       "<Figure size 640x480 with 1 Axes>"
      ]
     },
     "metadata": {},
     "output_type": "display_data"
    }
   ],
   "source": [
    "sns.boxplot(x=df['horsepower'])\n",
    "plt.show();"
   ]
  },
  {
   "cell_type": "raw",
   "metadata": {
    "colab": {
     "base_uri": "https://localhost:8080/",
     "height": 327
    },
    "id": "9ILicqKcPc-v",
    "outputId": "1add0f3f-0933-4a16-ffe5-afb871c866ce"
   },
   "source": [
    "import numpy as np\n",
    "\n",
    "\n",
    "df = pd.read_csv(\n",
    "    \"https://data.heatonresearch.com/data/t81-558/auto-mpg.csv\", na_values=[\"NA\", \"?\"]\n",
    ")\n",
    "\n",
    "# create feature vector\n",
    "med = df[\"horsepower\"].median()\n",
    "df[\"horsepower\"] = df[\"horsepower\"].fillna(med)\n",
    "\n",
    "# Drop the name column\n",
    "df.drop(\"name\", 1, inplace=True)\n",
    "\n",
    "# Drop outliers in horsepower\n",
    "print(\"Length before MPG outliers dropped: {}\".format(len(df)))\n",
    "remove_outliers(df, \"mpg\", 2)\n",
    "print(\"Length after MPG outliers dropped: {}\".format(len(df)))\n",
    "\n",
    "pd.set_option(\"display.max_columns\", 0)\n",
    "pd.set_option(\"display.max_rows\", 5)\n",
    "display(df)"
   ]
  },
  {
   "cell_type": "markdown",
   "metadata": {
    "id": "D3C0rBLFPc-v"
   },
   "source": [
    "## Dropping Fields\n",
    "\n",
    "You must drop fields that are of no value to the neural network. The following code removes the name column from the MPG dataset.\n"
   ]
  },
  {
   "cell_type": "raw",
   "metadata": {
    "colab": {
     "base_uri": "https://localhost:8080/"
    },
    "id": "ZAXR_oWxPc-v",
    "outputId": "134f6ad7-77c2-4809-ac9c-bda0fc0ac2d2"
   },
   "source": [
    "df = pd.read_csv(\n",
    "    \"https://data.heatonresearch.com/data/t81-558/auto-mpg.csv\", na_values=[\"NA\", \"?\"]\n",
    ")\n",
    "\n",
    "print(f\"Before drop: {list(df.columns)}\")\n",
    "df.drop(\"name\", 1, inplace=True)\n",
    "print(f\"After drop: {list(df.columns)}\")"
   ]
  },
  {
   "cell_type": "markdown",
   "metadata": {
    "id": "JuNpuuT7Pc-w"
   },
   "source": [
    "## Concatenating Rows and Columns\n",
    "\n",
    "Python can concatenate rows and columns together to form new data frames. The code below creates a new data frame from the **name** and **horsepower** columns from the Auto MPG dataset. The program does this by concatenating two columns together.\n"
   ]
  },
  {
   "cell_type": "code",
   "execution_count": 20,
   "metadata": {
    "colab": {
     "base_uri": "https://localhost:8080/",
     "height": 236
    },
    "id": "ol6P7SlFPc-w",
    "outputId": "68c3e8cd-e94b-4c91-e6f5-01d10e4ac17e"
   },
   "outputs": [
    {
     "data": {
      "text/html": [
       "<div>\n",
       "<style scoped>\n",
       "    .dataframe tbody tr th:only-of-type {\n",
       "        vertical-align: middle;\n",
       "    }\n",
       "\n",
       "    .dataframe tbody tr th {\n",
       "        vertical-align: top;\n",
       "    }\n",
       "\n",
       "    .dataframe thead th {\n",
       "        text-align: right;\n",
       "    }\n",
       "</style>\n",
       "<table border=\"1\" class=\"dataframe\">\n",
       "  <thead>\n",
       "    <tr style=\"text-align: right;\">\n",
       "      <th></th>\n",
       "      <th>mpg</th>\n",
       "      <th>cylinders</th>\n",
       "      <th>displacement</th>\n",
       "      <th>horsepower</th>\n",
       "      <th>weight</th>\n",
       "      <th>acceleration</th>\n",
       "      <th>year</th>\n",
       "      <th>origin</th>\n",
       "    </tr>\n",
       "  </thead>\n",
       "  <tbody>\n",
       "    <tr>\n",
       "      <th>142</th>\n",
       "      <td>26.0</td>\n",
       "      <td>4</td>\n",
       "      <td>79.0</td>\n",
       "      <td>67.0</td>\n",
       "      <td>1963</td>\n",
       "      <td>15.5</td>\n",
       "      <td>74</td>\n",
       "      <td>2</td>\n",
       "    </tr>\n",
       "    <tr>\n",
       "      <th>297</th>\n",
       "      <td>25.4</td>\n",
       "      <td>5</td>\n",
       "      <td>183.0</td>\n",
       "      <td>77.0</td>\n",
       "      <td>3530</td>\n",
       "      <td>20.1</td>\n",
       "      <td>79</td>\n",
       "      <td>2</td>\n",
       "    </tr>\n",
       "    <tr>\n",
       "      <th>82</th>\n",
       "      <td>23.0</td>\n",
       "      <td>4</td>\n",
       "      <td>120.0</td>\n",
       "      <td>97.0</td>\n",
       "      <td>2506</td>\n",
       "      <td>14.5</td>\n",
       "      <td>72</td>\n",
       "      <td>3</td>\n",
       "    </tr>\n",
       "    <tr>\n",
       "      <th>397</th>\n",
       "      <td>31.0</td>\n",
       "      <td>4</td>\n",
       "      <td>119.0</td>\n",
       "      <td>82.0</td>\n",
       "      <td>2720</td>\n",
       "      <td>19.4</td>\n",
       "      <td>82</td>\n",
       "      <td>1</td>\n",
       "    </tr>\n",
       "    <tr>\n",
       "      <th>44</th>\n",
       "      <td>13.0</td>\n",
       "      <td>8</td>\n",
       "      <td>400.0</td>\n",
       "      <td>175.0</td>\n",
       "      <td>5140</td>\n",
       "      <td>12.0</td>\n",
       "      <td>71</td>\n",
       "      <td>1</td>\n",
       "    </tr>\n",
       "    <tr>\n",
       "      <th>62</th>\n",
       "      <td>13.0</td>\n",
       "      <td>8</td>\n",
       "      <td>350.0</td>\n",
       "      <td>165.0</td>\n",
       "      <td>4274</td>\n",
       "      <td>12.0</td>\n",
       "      <td>72</td>\n",
       "      <td>1</td>\n",
       "    </tr>\n",
       "    <tr>\n",
       "      <th>117</th>\n",
       "      <td>29.0</td>\n",
       "      <td>4</td>\n",
       "      <td>68.0</td>\n",
       "      <td>49.0</td>\n",
       "      <td>1867</td>\n",
       "      <td>19.5</td>\n",
       "      <td>73</td>\n",
       "      <td>2</td>\n",
       "    </tr>\n",
       "    <tr>\n",
       "      <th>20</th>\n",
       "      <td>25.0</td>\n",
       "      <td>4</td>\n",
       "      <td>110.0</td>\n",
       "      <td>87.0</td>\n",
       "      <td>2672</td>\n",
       "      <td>17.5</td>\n",
       "      <td>70</td>\n",
       "      <td>2</td>\n",
       "    </tr>\n",
       "    <tr>\n",
       "      <th>195</th>\n",
       "      <td>29.0</td>\n",
       "      <td>4</td>\n",
       "      <td>85.0</td>\n",
       "      <td>52.0</td>\n",
       "      <td>2035</td>\n",
       "      <td>22.2</td>\n",
       "      <td>76</td>\n",
       "      <td>1</td>\n",
       "    </tr>\n",
       "    <tr>\n",
       "      <th>349</th>\n",
       "      <td>34.1</td>\n",
       "      <td>4</td>\n",
       "      <td>91.0</td>\n",
       "      <td>68.0</td>\n",
       "      <td>1985</td>\n",
       "      <td>16.0</td>\n",
       "      <td>81</td>\n",
       "      <td>3</td>\n",
       "    </tr>\n",
       "  </tbody>\n",
       "</table>\n",
       "</div>"
      ],
      "text/plain": [
       "      mpg  cylinders  displacement  horsepower  weight  acceleration  year  origin\n",
       "142  26.0          4          79.0        67.0    1963          15.5    74       2\n",
       "297  25.4          5         183.0        77.0    3530          20.1    79       2\n",
       "82   23.0          4         120.0        97.0    2506          14.5    72       3\n",
       "397  31.0          4         119.0        82.0    2720          19.4    82       1\n",
       "44   13.0          8         400.0       175.0    5140          12.0    71       1\n",
       "62   13.0          8         350.0       165.0    4274          12.0    72       1\n",
       "117  29.0          4          68.0        49.0    1867          19.5    73       2\n",
       "20   25.0          4         110.0        87.0    2672          17.5    70       2\n",
       "195  29.0          4          85.0        52.0    2035          22.2    76       1\n",
       "349  34.1          4          91.0        68.0    1985          16.0    81       3"
      ]
     },
     "execution_count": 20,
     "metadata": {},
     "output_type": "execute_result"
    }
   ],
   "source": [
    "# Create a new dataframe from name and horsepower\n",
    "\n",
    "raw = pd.read_csv(url, na_values=[\"NA\", \"?\"])\n",
    "\n",
    "def concat_columns(df1, df2, col_name1, col_name2):\n",
    "    \"\"\"\n",
    "    Concatenates two columns from potentially different DataFrames with a similar index.\n",
    "\n",
    "    Args:\n",
    "    df1 (pd.DataFrame): The first DataFrame.\n",
    "    df2 (pd.DataFrame): The second DataFrame (can be the same as df1).\n",
    "    col_name1 (str): The column name to be taken from df1.\n",
    "    col_name2 (str): The column name to be taken from df2.\n",
    "\n",
    "    Returns:\n",
    "    pd.DataFrame: A DataFrame containing the concatenated columns.\n",
    "    \"\"\"\n",
    "    return pd.concat([\n",
    "        df1[col_name1],\n",
    "        df2[col_name2]\n",
    "    ], axis=1)\n",
    "\n",
    "\n",
    "result = concat_columns(raw, raw, \"horsepower\", \"name\")\n",
    "\n",
    "pd.set_option(\"display.max_columns\", 0)\n",
    "pd.set_option(\"display.max_rows\", 0)\n",
    "df.sample(10, random_state=43)"
   ]
  },
  {
   "cell_type": "markdown",
   "metadata": {
    "id": "23K7Fc2KPc-w"
   },
   "source": [
    "The **concat** function can also concatenate rows together. This code concatenates the first two rows and the last two rows of the Auto MPG dataset.\n"
   ]
  },
  {
   "cell_type": "code",
   "execution_count": 21,
   "metadata": {
    "colab": {
     "base_uri": "https://localhost:8080/",
     "height": 204
    },
    "id": "1Ggw-tuRPc-w",
    "outputId": "1ca5d601-04c8-45e0-ec50-883c2e943cb9"
   },
   "outputs": [
    {
     "data": {
      "text/html": [
       "<div>\n",
       "<style scoped>\n",
       "    .dataframe tbody tr th:only-of-type {\n",
       "        vertical-align: middle;\n",
       "    }\n",
       "\n",
       "    .dataframe tbody tr th {\n",
       "        vertical-align: top;\n",
       "    }\n",
       "\n",
       "    .dataframe thead th {\n",
       "        text-align: right;\n",
       "    }\n",
       "</style>\n",
       "<table border=\"1\" class=\"dataframe\">\n",
       "  <thead>\n",
       "    <tr style=\"text-align: right;\">\n",
       "      <th></th>\n",
       "      <th>mpg</th>\n",
       "      <th>cylinders</th>\n",
       "      <th>displacement</th>\n",
       "      <th>...</th>\n",
       "      <th>year</th>\n",
       "      <th>origin</th>\n",
       "      <th>name</th>\n",
       "    </tr>\n",
       "  </thead>\n",
       "  <tbody>\n",
       "    <tr>\n",
       "      <th>0</th>\n",
       "      <td>18.0</td>\n",
       "      <td>8</td>\n",
       "      <td>307.0</td>\n",
       "      <td>...</td>\n",
       "      <td>70</td>\n",
       "      <td>1</td>\n",
       "      <td>chevrolet chevelle malibu</td>\n",
       "    </tr>\n",
       "    <tr>\n",
       "      <th>1</th>\n",
       "      <td>15.0</td>\n",
       "      <td>8</td>\n",
       "      <td>350.0</td>\n",
       "      <td>...</td>\n",
       "      <td>70</td>\n",
       "      <td>1</td>\n",
       "      <td>buick skylark 320</td>\n",
       "    </tr>\n",
       "    <tr>\n",
       "      <th>396</th>\n",
       "      <td>28.0</td>\n",
       "      <td>4</td>\n",
       "      <td>120.0</td>\n",
       "      <td>...</td>\n",
       "      <td>82</td>\n",
       "      <td>1</td>\n",
       "      <td>ford ranger</td>\n",
       "    </tr>\n",
       "    <tr>\n",
       "      <th>397</th>\n",
       "      <td>31.0</td>\n",
       "      <td>4</td>\n",
       "      <td>119.0</td>\n",
       "      <td>...</td>\n",
       "      <td>82</td>\n",
       "      <td>1</td>\n",
       "      <td>chevy s-10</td>\n",
       "    </tr>\n",
       "  </tbody>\n",
       "</table>\n",
       "<p>4 rows × 9 columns</p>\n",
       "</div>"
      ],
      "text/plain": [
       "      mpg  cylinders  displacement  ...  year  origin  \\\n",
       "0    18.0          8         307.0  ...    70       1   \n",
       "1    15.0          8         350.0  ...    70       1   \n",
       "396  28.0          4         120.0  ...    82       1   \n",
       "397  31.0          4         119.0  ...    82       1   \n",
       "\n",
       "                          name  \n",
       "0    chevrolet chevelle malibu  \n",
       "1            buick skylark 320  \n",
       "396                ford ranger  \n",
       "397                 chevy s-10  \n",
       "\n",
       "[4 rows x 9 columns]"
      ]
     },
     "metadata": {},
     "output_type": "display_data"
    }
   ],
   "source": [
    "# Create a new dataframe from first 2 rows and last 2 rows\n",
    "\n",
    "raw = pd.read_csv(url, na_values=[\"NA\", \"?\"])\n",
    "\n",
    "result = pd.concat([raw[0:2], raw[-2:]], axis=0)\n",
    "\n",
    "pd.set_option(\"display.max_columns\", 7)\n",
    "pd.set_option(\"display.max_rows\", 0)\n",
    "display(result)"
   ]
  },
  {
   "cell_type": "markdown",
   "metadata": {
    "id": "pieLh51kPc-w"
   },
   "source": [
    "## Training and Validation\n",
    "\n",
    "We must evaluate a machine learning model based on its ability to predict values that it has never seen before. Because of this, we often divide the training data into a validation and training set. The machine learning model will learn from the training data but ultimately be evaluated based on the validation data.\n",
    "\n",
    "- **Training Data** - **In Sample Data** - The data that the neural network used to train.\n",
    "- **Validation Data** - **Out of Sample Data** - The data that the machine learning model is evaluated upon after it is fit to the training data.\n",
    "\n",
    "There are two effective means of dealing with training and validation data:\n",
    "\n",
    "- **Training/Validation Split** - The program splits the data according to some ratio between a training and validation (hold-out) set. Typical rates are 80% training and 20% validation.\n",
    "- **K-Fold Cross Validation** - The program splits the data into several folds and models. Because the program creates the same number of models as folds, the program can generate out-of-sample predictions for the entire dataset.\n",
    "\n",
    "The code below splits the MPG data into a training and validation set. The training set uses 80% of the data, and the validation set uses 20%. Figure 2.TRN-VAL shows how we train a model on 80% of the data and then validated against the remaining 20%.\n",
    "\n",
    "**Figure 2.TRN-VAL: Training and Validation**\n",
    "![Training and Validation](https://raw.githubusercontent.com/jeffheaton/t81_558_deep_learning/master/images/class_1_train_val.png \"Training and Validation\")\n"
   ]
  },
  {
   "cell_type": "code",
   "execution_count": 22,
   "metadata": {
    "colab": {
     "base_uri": "https://localhost:8080/"
    },
    "id": "LjPVxQipPc-w",
    "outputId": "21bdda20-5f67-4787-d2f8-b4fab981e64d"
   },
   "outputs": [
    {
     "name": "stdout",
     "output_type": "stream",
     "text": [
      "Training DF: 319\n",
      "Validation DF: 79\n"
     ]
    }
   ],
   "source": [
    "df = pd.read_csv(url, na_values=[\"NA\", \"?\"])\n",
    "\n",
    "# Usually a good idea to shuffle\n",
    "df = df.reindex(np.random.permutation(df.index))\n",
    "\n",
    "mask = np.random.rand(len(df)) < 0.8\n",
    "trainDF = pd.DataFrame(df[mask])\n",
    "validationDF = pd.DataFrame(df[~mask])\n",
    "\n",
    "print(f\"Training DF: {len(trainDF)}\")\n",
    "print(f\"Validation DF: {len(validationDF)}\")"
   ]
  },
  {
   "cell_type": "markdown",
   "metadata": {},
   "source": [
    "This code snippet is performing data preparation for machine learning or statistical modeling, particularly splitting a dataset into training and validation sets. Let's break it down step by step:\n",
    "\n",
    "### Step 1: Reading the Data\n",
    "```python\n",
    "df = pd.read_csv(url, na_values=[\"NA\", \"?\"])\n",
    "```\n",
    "- This line reads data from a CSV file (from the given `url`) into a pandas DataFrame (`df`). The `na_values` parameter specifies that the strings `\"NA\"` and `\"?\"` in the CSV file should be treated as missing values (NaN).\n",
    "\n",
    "### Step 2: Shuffling the Data\n",
    "```python\n",
    "df = df.reindex(np.random.permutation(df.index))\n",
    "```\n",
    "- The DataFrame `df` is shuffled. `np.random.permutation(df.index)` generates a random permutation of the DataFrame's index. `df.reindex(...)` rearranges the rows of `df` to match this new order.\n",
    "- Shuffling is a common practice before splitting data for training and validation/testing, as it helps in removing any inherent ordering or bias in the data.\n",
    "\n",
    "### Step 3: Splitting the Data into Training and Validation Sets\n",
    "```python\n",
    "mask = np.random.rand(len(df)) < 0.8\n",
    "trainDF = pd.DataFrame(df[mask])\n",
    "validationDF = pd.DataFrame(df[~mask])\n",
    "```\n",
    "- A mask (boolean array) is created where each element is `True` with a probability of 0.8 (`np.random.rand(len(df)) < 0.8`). This effectively decides, for each row, whether it should go into the training set (80% chance) or the validation set (20% chance).\n",
    "- `trainDF` is created by selecting rows from `df` where the mask is `True`.\n",
    "- `validationDF` is created by selecting rows from `df` where the mask is `False` (`~mask` means 'not mask').\n",
    "\n",
    "### Step 4: Printing the Sizes of the Training and Validation Sets\n",
    "```python\n",
    "print(f\"Training DF: {len(trainDF)}\")\n",
    "print(f\"Validation DF: {len(validationDF)}\")\n",
    "```\n",
    "- These lines print the number of rows in the training and validation DataFrames, respectively.\n",
    "\n",
    "### Summary\n",
    "In essence, this script is a typical data preparation routine in machine learning. It reads a dataset, randomly shuffles it to ensure a mix of data points, then splits it into a training set and a validation set in an approximately 80/20 ratio. This separation is crucial for training models on one subset of the data (training set) and then validating their performance on a separate, unseen subset (validation set).\n",
    "\n",
    "\n",
    "We could also achieve the same with `sklearn`'s `train_test_split`."
   ]
  },
  {
   "cell_type": "code",
   "execution_count": 23,
   "metadata": {},
   "outputs": [
    {
     "name": "stdout",
     "output_type": "stream",
     "text": [
      "Training DF: 314\n",
      "Validation DF: 84\n"
     ]
    }
   ],
   "source": [
    "# Load the dataset\n",
    "df = pd.read_csv(url, na_values=[\"NA\", \"?\"])\n",
    "\n",
    "# Split the data into training and validation sets\n",
    "trainDF, validationDF = train_test_split(df, test_size=0.21, random_state=43)\n",
    "\n",
    "# Print the sizes of the training and validation datasets\n",
    "print(f\"Training DF: {len(trainDF)}\")\n",
    "print(f\"Validation DF: {len(validationDF)}\")\n"
   ]
  },
  {
   "cell_type": "markdown",
   "metadata": {
    "id": "RT_4yOcuPc-w"
   },
   "source": [
    "## Converting a Dataframe to a Matrix\n",
    "\n",
    "Neural networks do not directly operate on Python data frames. A neural network requires a numeric matrix. The program uses a data frame's **values** property to convert the data to a matrix.\n"
   ]
  },
  {
   "cell_type": "code",
   "execution_count": 24,
   "metadata": {
    "colab": {
     "base_uri": "https://localhost:8080/"
    },
    "id": "kOP2e28LPc-w",
    "outputId": "2ca85af1-f3b8-4df5-bd0e-b70a20e2c238"
   },
   "outputs": [
    {
     "data": {
      "text/plain": [
       "array([[18.0, 8, 307.0, ..., 70, 1, 'chevrolet chevelle malibu'],\n",
       "       [15.0, 8, 350.0, ..., 70, 1, 'buick skylark 320'],\n",
       "       [18.0, 8, 318.0, ..., 70, 1, 'plymouth satellite'],\n",
       "       ...,\n",
       "       [32.0, 4, 135.0, ..., 82, 1, 'dodge rampage'],\n",
       "       [28.0, 4, 120.0, ..., 82, 1, 'ford ranger'],\n",
       "       [31.0, 4, 119.0, ..., 82, 1, 'chevy s-10']], dtype=object)"
      ]
     },
     "execution_count": 24,
     "metadata": {},
     "output_type": "execute_result"
    }
   ],
   "source": [
    "df.values"
   ]
  },
  {
   "cell_type": "markdown",
   "metadata": {
    "id": "VRb-CDKYPc-x"
   },
   "source": [
    "You might wish only to convert some of the columns, to leave out the name column, use the following code.\n"
   ]
  },
  {
   "cell_type": "code",
   "execution_count": 25,
   "metadata": {
    "colab": {
     "base_uri": "https://localhost:8080/"
    },
    "id": "tLi9PbzzPc-x",
    "outputId": "8fb1efa4-e53e-475d-c9f6-daf80a4f3922"
   },
   "outputs": [
    {
     "data": {
      "text/plain": [
       "array([[ 18. ,   8. , 307. , ...,  12. ,  70. ,   1. ],\n",
       "       [ 15. ,   8. , 350. , ...,  11.5,  70. ,   1. ],\n",
       "       [ 18. ,   8. , 318. , ...,  11. ,  70. ,   1. ],\n",
       "       ...,\n",
       "       [ 32. ,   4. , 135. , ...,  11.6,  82. ,   1. ],\n",
       "       [ 28. ,   4. , 120. , ...,  18.6,  82. ,   1. ],\n",
       "       [ 31. ,   4. , 119. , ...,  19.4,  82. ,   1. ]])"
      ]
     },
     "execution_count": 25,
     "metadata": {},
     "output_type": "execute_result"
    }
   ],
   "source": [
    "df[\n",
    "    [\n",
    "        \"mpg\",\n",
    "        \"cylinders\",\n",
    "        \"displacement\",\n",
    "        \"horsepower\",\n",
    "        \"weight\",\n",
    "        \"acceleration\",\n",
    "        \"year\",\n",
    "        \"origin\",\n",
    "    ]\n",
    "].values"
   ]
  },
  {
   "cell_type": "markdown",
   "metadata": {
    "id": "e_fDxfxzPc-x"
   },
   "source": [
    "## Saving a Dataframe to CSV\n",
    "\n",
    "Many of the assignments in this course will require that you save a data frame to submit to the instructor. The following code performs a shuffle and then saves a new copy.\n"
   ]
  },
  {
   "cell_type": "raw",
   "metadata": {
    "id": "gdxj7en3Pc-x"
   },
   "source": [
    "path = \".\"\n",
    "\n",
    "df = pd.read_csv(\n",
    "    \"https://data.heatonresearch.com/data/t81-558/auto-mpg.csv\", na_values=[\"NA\", \"?\"]\n",
    ")\n",
    "\n",
    "filename_write = os.path.join(path, \"auto-mpg-shuffle.csv\")\n",
    "df = df.reindex(np.random.permutation(df.index))\n",
    "# Specify index = false to not write row numbers\n",
    "df.to_csv(filename_write, index=False)"
   ]
  },
  {
   "cell_type": "code",
   "execution_count": 26,
   "metadata": {},
   "outputs": [],
   "source": [
    "# Define the path using pathlib\n",
    "path = Path(\".\")\n",
    "\n",
    "df = pd.read_csv(url, na_values=[\"NA\", \"?\"])\n",
    "\n",
    "# Create the full path for the new file\n",
    "filename_write = path / \"auto-mpg-shuffle.csv\"\n",
    "\n",
    "# Create a random generator\n",
    "rng = np.random.default_rng()\n",
    "\n",
    "# Shuffle the DataFrame\n",
    "df = df.reindex(rng.permutation(df.index))\n",
    "\n",
    "# Write to CSV without the index\n",
    "df.to_csv(filename_write, index=False)\n"
   ]
  },
  {
   "cell_type": "markdown",
   "metadata": {
    "id": "mbiNd8LkPc-x"
   },
   "source": [
    "## Saving a Dataframe to Pickle\n",
    "\n",
    "A variety of software programs can use text files stored as CSV. However, they take longer to generate and can sometimes lose small amounts of precision in the conversion. Generally, you will output to CSV because it is very compatible, even outside of Python. Another format is [Pickle](https://docs.python.org/3/library/pickle.html). The code below stores the Dataframe to Pickle. Pickle stores data in the exact binary representation used by Python. The benefit is that there is no loss of data going to CSV format. The disadvantage is that generally, only Python programs can read Pickle files.\n"
   ]
  },
  {
   "cell_type": "raw",
   "metadata": {
    "id": "Yndp62B1Pc-x"
   },
   "source": [
    "import os\n",
    "import pickle\n",
    "\n",
    "path = \".\"\n",
    "\n",
    "df = pd.read_csv(\n",
    "    \"https://data.heatonresearch.com/data/t81-558/auto-mpg.csv\", na_values=[\"NA\", \"?\"]\n",
    ")\n",
    "\n",
    "filename_write = os.path.join(path, \"auto-mpg-shuffle.pkl\")\n",
    "df = df.reindex(np.random.permutation(df.index))\n",
    "\n",
    "with open(filename_write, \"wb\") as fp:\n",
    "    pickle.dump(df, fp)"
   ]
  },
  {
   "cell_type": "code",
   "execution_count": 27,
   "metadata": {},
   "outputs": [],
   "source": [
    "# Define the path using pathlib\n",
    "path = Path(\".\")\n",
    "\n",
    "df = pd.read_csv(url, na_values=[\"NA\", \"?\"])\n",
    "\n",
    "# Create the full path for the new file using pathlib\n",
    "filename_write = path / \"auto-mpg-shuffle.pkl\"\n",
    "\n",
    "# Create a random generator\n",
    "rng = np.random.default_rng()\n",
    "\n",
    "# Shuffle the DataFrame\n",
    "df = df.reindex(rng.permutation(df.index))\n",
    "\n",
    "# Use the pathlib object directly to open and write the file\n",
    "with open(filename_write, \"wb\") as fp:\n",
    "    pickle.dump(df, fp)\n"
   ]
  },
  {
   "cell_type": "markdown",
   "metadata": {
    "id": "gqyjYGiKPc-x"
   },
   "source": [
    "Loading the pickle file back into memory is accomplished by the following lines of code. Notice that the index numbers are still jumbled from the previous shuffle? Loading the CSV rebuilt (in the last step) did not preserve these values.\n"
   ]
  },
  {
   "cell_type": "raw",
   "metadata": {
    "colab": {
     "base_uri": "https://localhost:8080/",
     "height": 236
    },
    "id": "EEqdoNSMPc-x",
    "outputId": "ce815a34-a7d6-4064-9d2e-f12a09067c98"
   },
   "source": [
    "import os\n",
    "import pickle\n",
    "\n",
    "path = \".\"\n",
    "\n",
    "df = pd.read_csv(\n",
    "    \"https://data.heatonresearch.com/data/t81-558/auto-mpg.csv\", na_values=[\"NA\", \"?\"]\n",
    ")\n",
    "\n",
    "filename_read = os.path.join(path, \"auto-mpg-shuffle.pkl\")\n",
    "\n",
    "with open(filename_write, \"rb\") as fp:\n",
    "    df = pickle.load(fp)\n",
    "\n",
    "pd.set_option(\"display.max_columns\", 7)\n",
    "pd.set_option(\"display.max_rows\", 5)\n",
    "display(df)"
   ]
  },
  {
   "cell_type": "code",
   "execution_count": 28,
   "metadata": {},
   "outputs": [
    {
     "data": {
      "text/html": [
       "<div>\n",
       "<style scoped>\n",
       "    .dataframe tbody tr th:only-of-type {\n",
       "        vertical-align: middle;\n",
       "    }\n",
       "\n",
       "    .dataframe tbody tr th {\n",
       "        vertical-align: top;\n",
       "    }\n",
       "\n",
       "    .dataframe thead th {\n",
       "        text-align: right;\n",
       "    }\n",
       "</style>\n",
       "<table border=\"1\" class=\"dataframe\">\n",
       "  <thead>\n",
       "    <tr style=\"text-align: right;\">\n",
       "      <th></th>\n",
       "      <th>mpg</th>\n",
       "      <th>cylinders</th>\n",
       "      <th>displacement</th>\n",
       "      <th>...</th>\n",
       "      <th>year</th>\n",
       "      <th>origin</th>\n",
       "      <th>name</th>\n",
       "    </tr>\n",
       "  </thead>\n",
       "  <tbody>\n",
       "    <tr>\n",
       "      <th>350</th>\n",
       "      <td>34.7</td>\n",
       "      <td>4</td>\n",
       "      <td>105.0</td>\n",
       "      <td>...</td>\n",
       "      <td>81</td>\n",
       "      <td>1</td>\n",
       "      <td>plymouth horizon 4</td>\n",
       "    </tr>\n",
       "    <tr>\n",
       "      <th>35</th>\n",
       "      <td>17.0</td>\n",
       "      <td>6</td>\n",
       "      <td>250.0</td>\n",
       "      <td>...</td>\n",
       "      <td>71</td>\n",
       "      <td>1</td>\n",
       "      <td>chevrolet chevelle malibu</td>\n",
       "    </tr>\n",
       "    <tr>\n",
       "      <th>...</th>\n",
       "      <td>...</td>\n",
       "      <td>...</td>\n",
       "      <td>...</td>\n",
       "      <td>...</td>\n",
       "      <td>...</td>\n",
       "      <td>...</td>\n",
       "      <td>...</td>\n",
       "    </tr>\n",
       "    <tr>\n",
       "      <th>107</th>\n",
       "      <td>18.0</td>\n",
       "      <td>6</td>\n",
       "      <td>232.0</td>\n",
       "      <td>...</td>\n",
       "      <td>73</td>\n",
       "      <td>1</td>\n",
       "      <td>amc gremlin</td>\n",
       "    </tr>\n",
       "    <tr>\n",
       "      <th>310</th>\n",
       "      <td>38.1</td>\n",
       "      <td>4</td>\n",
       "      <td>89.0</td>\n",
       "      <td>...</td>\n",
       "      <td>80</td>\n",
       "      <td>3</td>\n",
       "      <td>toyota corolla tercel</td>\n",
       "    </tr>\n",
       "  </tbody>\n",
       "</table>\n",
       "<p>398 rows × 9 columns</p>\n",
       "</div>"
      ],
      "text/plain": [
       "      mpg  cylinders  displacement  ...  year  origin  \\\n",
       "350  34.7          4         105.0  ...    81       1   \n",
       "35   17.0          6         250.0  ...    71       1   \n",
       "..    ...        ...           ...  ...   ...     ...   \n",
       "107  18.0          6         232.0  ...    73       1   \n",
       "310  38.1          4          89.0  ...    80       3   \n",
       "\n",
       "                          name  \n",
       "350         plymouth horizon 4  \n",
       "35   chevrolet chevelle malibu  \n",
       "..                         ...  \n",
       "107                amc gremlin  \n",
       "310      toyota corolla tercel  \n",
       "\n",
       "[398 rows x 9 columns]"
      ]
     },
     "execution_count": 28,
     "metadata": {},
     "output_type": "execute_result"
    }
   ],
   "source": [
    "# Define the path using pathlib\n",
    "path = Path(\".\")\n",
    "\n",
    "df = pd.read_csv(url, na_values=[\"NA\", \"?\"])\n",
    "\n",
    "# Create the full path for the file to be read using pathlib\n",
    "filename_read = path / \"auto-mpg-shuffle.pkl\"\n",
    "\n",
    "# Use the pathlib object directly to open and read the file\n",
    "with open(filename_read, \"rb\") as fp:\n",
    "    df = pickle.load(fp)\n",
    "\n",
    "# Setting display options for DataFrame\n",
    "pd.set_option(\"display.max_columns\", 7)\n",
    "pd.set_option(\"display.max_rows\", 5)\n",
    "df"
   ]
  },
  {
   "cell_type": "markdown",
   "metadata": {
    "id": "jVG4vxSiPc-x"
   },
   "source": [
    "# Module 2 Assignment\n",
    "\n",
    "You can find the second assignment here: [assignment 2](https://github.com/jeffheaton/app_deep_learning/blob/main/assignments/assignment_yourname_class2.ipynb)\n"
   ]
  }
 ],
 "metadata": {
  "anaconda-cloud": {},
  "colab": {
   "provenance": []
  },
  "kernelspec": {
   "display_name": "Python 3 (ipykernel)",
   "language": "python",
   "name": "python3"
  },
  "language_info": {
   "codemirror_mode": {
    "name": "ipython",
    "version": 3
   },
   "file_extension": ".py",
   "mimetype": "text/x-python",
   "name": "python",
   "nbconvert_exporter": "python",
   "pygments_lexer": "ipython3",
   "version": "3.10.12"
  },
  "varInspector": {
   "cols": {
    "lenName": 16,
    "lenType": 16,
    "lenVar": 40
   },
   "kernels_config": {
    "python": {
     "delete_cmd_postfix": "",
     "delete_cmd_prefix": "del ",
     "library": "var_list.py",
     "varRefreshCmd": "print(var_dic_list())"
    },
    "r": {
     "delete_cmd_postfix": ") ",
     "delete_cmd_prefix": "rm(",
     "library": "var_list.r",
     "varRefreshCmd": "cat(var_dic_list()) "
    }
   },
   "types_to_exclude": [
    "module",
    "function",
    "builtin_function_or_method",
    "instance",
    "_Feature"
   ],
   "window_display": false
  }
 },
 "nbformat": 4,
 "nbformat_minor": 4
}
