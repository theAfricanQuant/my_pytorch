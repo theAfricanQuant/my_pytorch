{
 "cells": [
  {
   "cell_type": "markdown",
   "metadata": {},
   "source": [
    "<a href=\"https://colab.research.google.com/github/jeffheaton/app_deep_learning/blob/main/t81_558_class_01_5_python_functional.ipynb\" target=\"_parent\"><img src=\"https://colab.research.google.com/assets/colab-badge.svg\" alt=\"Open In Colab\"/></a>\n"
   ]
  },
  {
   "cell_type": "markdown",
   "metadata": {},
   "source": [
    "# T81-558: Applications of Deep Neural Networks\n",
    "\n",
    "**Module 1: Python Preliminaries**\n",
    "\n",
    "- Instructor: [Jeff Heaton](https://sites.wustl.edu/jeffheaton/), McKelvey School of Engineering, [Washington University in St. Louis](https://engineering.wustl.edu/Programs/Pages/default.aspx)\n",
    "- For more information visit the [class website](https://sites.wustl.edu/jeffheaton/t81-558/).\n"
   ]
  },
  {
   "cell_type": "markdown",
   "metadata": {},
   "source": [
    "# Module 1 Material\n",
    "\n",
    "* Part 1.1: Course Overview [[Video]](https://www.youtube.com/watch?v=r7eExQWKzdc&list=PLjy4p-07OYzuy_lHcRW8lPTLPTTOmUpmi) [[Notebook]](t81_558_class_01_1_overview.ipynb)\n",
    "* Part 1.2: Introduction to Python [[Video]](https://www.youtube.com/watch?v=ZAOOinw51no&list=PLjy4p-07OYzuy_lHcRW8lPTLPTTOmUpmi) [[Notebook]](t81_558_class_01_2_intro_python.ipynb)\n",
    "* Part 1.3: Python Lists, Dictionaries, Sets and JSON [[Video]](https://www.youtube.com/watch?v=5jZWWLO71bE&list=PLjy4p-07OYzuy_lHcRW8lPTLPTTOmUpmi) [[Notebook]](t81_558_class_01_3_python_collections.ipynb)\n",
    "* Part 1.4: File Handling [[Video]](https://www.youtube.com/watch?v=CPrp1Sm-AhQ&list=PLjy4p-07OYzuy_lHcRW8lPTLPTTOmUpmi) [[Notebook]](t81_558_class_01_4_python_files.ipynb)\n",
    "* **Part 1.5: Functions, Lambdas, and Map/Reduce** [[Video]](https://www.youtube.com/watch?v=DEg8a22mtBs&list=PLjy4p-07OYzuy_lHcRW8lPTLPTTOmUpmi) [[Notebook]](t81_558_class_01_5_python_functional.ipynb)"
   ]
  },
  {
   "cell_type": "markdown",
   "metadata": {},
   "source": [
    "# Google CoLab Instructions\n",
    "\n",
    "The following code ensures that Google CoLab is running and maps Google Drive if needed.\n"
   ]
  },
  {
   "cell_type": "markdown",
   "metadata": {},
   "source": [
    "# Part 1.5: Functions, Lambdas, and Map/Reduce\n",
    "\n",
    "Functions, **lambdas**, and **map/reduce** can allow you to process your data in advanced ways. We will introduce these techniques here and expand on them in the next module, which will discuss Pandas.\n",
    "\n",
    "Function parameters can be named or unnamed in Python. Default values can also be used. Consider the following function.\n"
   ]
  },
  {
   "cell_type": "code",
   "execution_count": 3,
   "metadata": {},
   "outputs": [
    {
     "name": "stdout",
     "output_type": "stream",
     "text": [
      "Hallo Macharm, hier spricht Ricky.\n",
      "Auf Wiedersehen Macharm, hier spricht Ricky.\n",
      "Auf Wiedersehen Tell, hier spricht William.\n"
     ]
    }
   ],
   "source": [
    "def sag_hallo(speaker, person_to_greet, greeting=\"Hallo\"):\n",
    "    print(f\"{greeting} {person_to_greet}, hier spricht {speaker}.\")\n",
    "\n",
    "\n",
    "sag_hallo(\"Ricky\", \"Macharm\")\n",
    "sag_hallo(\"Ricky\", \"Macharm\", \"Auf Wiedersehen\")\n",
    "sag_hallo(speaker=\"William\", person_to_greet=\"Tell\", greeting=\"Auf Wiedersehen\")"
   ]
  },
  {
   "cell_type": "markdown",
   "metadata": {},
   "source": [
    "A function is a way to capture code that is commonly executed. Consider the following function that can be used to trim white space from a string capitalize the first letter.\n"
   ]
  },
  {
   "cell_type": "code",
   "execution_count": 4,
   "metadata": {},
   "outputs": [],
   "source": [
    "def process_string(str):\n",
    "    t = str.strip()\n",
    "    return t[0].upper() + t[1:]"
   ]
  },
  {
   "cell_type": "code",
   "execution_count": 5,
   "metadata": {},
   "outputs": [],
   "source": [
    "def process_string(input_string):\n",
    "    # Trim the input string to remove any leading or trailing spaces\n",
    "    trimmed_string = input_string.strip()\n",
    "\n",
    "    # Check if the string is not empty to avoid IndexError\n",
    "    if trimmed_string:\n",
    "        # Capitalize the first character and combine it with the rest of the string using an f-string\n",
    "        result = f\"{trimmed_string[0].upper()}{trimmed_string[1:]}\"\n",
    "    else:\n",
    "        result = \"\"\n",
    "\n",
    "    return result"
   ]
  },
  {
   "cell_type": "markdown",
   "metadata": {},
   "source": [
    "This function can now be called quite easily.\n"
   ]
  },
  {
   "cell_type": "code",
   "execution_count": 6,
   "metadata": {},
   "outputs": [
    {
     "name": "stdout",
     "output_type": "stream",
     "text": [
      "\"Hello\"\n"
     ]
    }
   ],
   "source": [
    "str = process_string(\"  hello  \")\n",
    "print(f'\"{str}\"')"
   ]
  },
  {
   "cell_type": "markdown",
   "metadata": {},
   "source": [
    "Python's **map** is a very useful function that is provided in many different programming languages. The **map** function takes a **list** and applies a function to each member of the **list** and returns a second **list** that is the same size as the first.\n"
   ]
  },
  {
   "cell_type": "code",
   "execution_count": 7,
   "metadata": {},
   "outputs": [
    {
     "data": {
      "text/plain": [
       "['Apple', 'Pear', 'Orange', 'Pine apple']"
      ]
     },
     "execution_count": 7,
     "metadata": {},
     "output_type": "execute_result"
    }
   ],
   "source": [
    "l = [\"   apple  \", \"pear \", \"orange\", \"pine apple  \"]\n",
    "list(map(process_string, l))"
   ]
  },
  {
   "cell_type": "markdown",
   "metadata": {},
   "source": [
    "Ah, the map function – a shining example of functional programming simplicity, yet loaded with power! Let's embark on a journey through its usage in Python, starting with the basics and then, like a detective uncovering the layers of a mystery, we'll delve into more complex examples.\n",
    "\n",
    "### Elementary, My Dear Watson: The Basics of `map`\n",
    "\n",
    "Python's `map` function is a classic example of \"doing one thing, and doing it well\". It applies a given function to each item of an iterable (like a list) and returns a map object, which is an iterator.\n",
    "\n",
    "#### Simple Example:\n",
    "\n",
    "1. **Function:** A simple function, say, doubling a number.\n",
    "2. **Iterable:** A list of numbers.\n",
    "\n",
    "```python\n",
    "def double(x):\n",
    "    return x * 2\n",
    "\n",
    "numbers = [1, 2, 3, 4, 5]\n",
    "result = map(double, numbers)\n",
    "```\n",
    "\n",
    "In this case, `result` will be a map object. To see the doubled numbers, you'd convert it to a list:\n",
    "\n",
    "```python\n",
    "print(list(result))  # Output: [2, 4, 6, 8, 10]\n",
    "```\n",
    "\n",
    "### Elementary Example, Level Two: Using Lambda Functions\n",
    "\n",
    "Now, let's add a twist – lambda functions. They are anonymous functions defined on the spot. \n",
    "\n",
    "```python\n",
    "numbers = [1, 2, 3, 4, 5]\n",
    "result = map(lambda x: x * 2, numbers)\n",
    "```\n",
    "\n",
    "Here, `lambda x: x * 2` is a quick, one-liner function that doubles the input value, `x`.\n",
    "\n",
    "### The Plot Thickens: More Complex Examples\n",
    "\n",
    "Now, let's raise the stakes with more intriguing examples.\n",
    "\n",
    "#### Example: Applying a Function to Two Lists\n",
    "\n",
    "Suppose we have two lists and we want to add corresponding elements. \n",
    "\n",
    "```python\n",
    "def add(x, y):\n",
    "    return x + y\n",
    "\n",
    "list1 = [1, 2, 3]\n",
    "list2 = [4, 5, 6]\n",
    "result = map(add, list1, list2)\n",
    "```\n",
    "\n",
    "This will output `[5, 7, 9]` upon conversion to a list, as it adds 1+4, 2+5, and 3+6.\n",
    "\n",
    "#### Example: Working with More Complex Data\n",
    "\n",
    "Let's say we have a list of dictionaries and we want to extract a particular value from each dictionary.\n",
    "\n",
    "```python\n",
    "data = [{'name': 'Alice', 'age': 30}, {'name': 'Bob', 'age': 25}]\n",
    "result = map(lambda x: x['name'], data)\n",
    "```\n",
    "\n",
    "This extracts the names, giving us `['Alice', 'Bob']`.\n",
    "\n",
    "### The Grand Finale: A Real-World Application\n",
    "\n",
    "Imagine a real-world scenario where you have data and you need to apply a series of transformations to this data. For instance, in data processing, you might want to normalize or scale a set of numerical values.\n",
    "\n",
    "```python\n",
    "import math\n",
    "\n",
    "def normalize(x, mean, std_dev):\n",
    "    return (x - mean) / std_dev\n",
    "\n",
    "values = [10, 20, 30, 40, 50]\n",
    "mean = sum(values) / len(values)\n",
    "std_dev = math.sqrt(sum((x - mean) ** 2 for x in values) / len(values))\n",
    "\n",
    "normalized_values = list(map(lambda x: normalize(x, mean, std_dev), values))\n",
    "```\n",
    "\n",
    "In this example, we normalize the values in the list, a common task in machine learning data preprocessing.\n",
    "\n",
    "### In Summary:\n",
    "\n",
    "The `map` function is like a trusty Watson – always there to assist you, whether the task is straightforward or complex. It's a testament to the beauty of Python's simplicity, allowing you to elegantly apply functions to iterables, thereby writing cleaner, more Pythonic code. Watson, I think we've solved another case! 🕵️‍♂️💡"
   ]
  },
  {
   "cell_type": "markdown",
   "metadata": {},
   "source": [
    "## Map vs List Comprehension\n",
    "\n",
    "\n",
    "\r\n",
    "### Simple Example: Doubling Numbers\r\n",
    "\r\n",
    "**Using `map`:**\r\n",
    "\r\n",
    "```python\r\n",
    "numbers = [1, 2, 3, 4, 5]\r\n",
    "result = map(lambda x: x * 2, numbers)\r\n",
    "doubled_numbers_map = list(result)\r\n",
    "```\r\n",
    "\r\n",
    "**Using List Comprehension:**\r\n",
    "\r\n",
    "```python\r\n",
    "doubled_numbers_comprehension = [x * 2 for x in numbers]\r\n",
    "```\r\n",
    "\r\n",
    "Both approaches double each number in the list. Simple, right?\r\n",
    "\r\n",
    "### Intermediate Example: Filtering and Transforming\r\n",
    "\r\n",
    "Let's say we want to double the numbers and only keep those greater than 5.\r\n",
    "\r\n",
    "**Using `map` with `filter`:**\r\n",
    "\r\n",
    "```python\r\n",
    "result = map(lambda x: x * 2, numbers)\r\n",
    "filtered_doubled_map = list(filter(lambda x: x > 5, result))\r\n",
    "```\r\n",
    "\r\n",
    "**Using List Comprehension:**\r\n",
    "\r\n",
    "```python\r\n",
    "filtered_doubled_comprehension = [x * 2 for x in numbers if x * 2 > 5]\r\n",
    "```\r\n",
    "\r\n",
    "Here, list comprehension feels more streamlined as it combines filtering and mapping in one readable line.\r\n",
    "\r\n",
    "### Complex Example: Working with Nested Structures\r\n",
    "\r\n",
    "Imagine a list of dictionaries and we want to extract and transform certain elements.\r\n",
    "\r\n",
    "**Using `map`:**\r\n",
    "\r\n",
    "```python\r\n",
    "data = [{'name': 'Alice', 'age': 30}, {'name': 'Bob', 'age': 25}]\r\n",
    "names_upper_map = list(map(lambda x: x['name'].upper(), data))\r\n",
    "```\r\n",
    "\r\n",
    "**Using List Comprehension:**\r\n",
    "\r\n",
    "```python\r\n",
    "names_upper_comprehension = [person['name'].upper() for person in data]\r\n",
    "```\r\n",
    "\r\n",
    "Both methods achieve the same result, but the list comprehension is arguably more readable.\r\n",
    "\r\n",
    "### Performance: Which Is Faster?\r\n",
    "\r\n",
    "This is like asking whether a sports car or a motorbike is faster – it depends on the context. Generally, for simple transformations, list comprehensions tend to be slightly faster due to their optimized implementation in Python. However, the difference is usually negligible for most practical purposes.\r\n",
    "\r\n",
    "### Best Use Cases\r\n",
    "\r\n",
    "**Use `map` when:**\r\n",
    "1. **Working with existing functions:** If you already have a function defined (especially a more complex one), `map` can be more readable as you don't have to inline the function's logic.\r\n",
    "2. **Dealing with multiple iterables:** `map` can easily handle multiple iterables, unlike list comprehensions.\r\n",
    "\r\n",
    "**Use list comprehension when:**\r\n",
    "1. **Prioritizing readability:** For simple transformations, comprehensions are often more straightforward and Pythonic.\r\n",
    "2. **Combining filtering and mapping:** It's more concise to filter and transform data in a single line with comprehensions.\r\n",
    "\r\n",
    "In conclusion, while `map` is like a vintage detective with a methodical approach, list comprehensions are like a modern sleuth with a flair for efficiency and readability. The choice between them often boils down to the specific context and your personal coding style preference. 🕵️‍♂️💻🚀\n",
    "\n",
    "The **map** function is very similar to the Python **comprehension** that we previously explored. The following **comprehension** accomplishes the same task as the previous call to **map**.\n"
   ]
  },
  {
   "cell_type": "code",
   "execution_count": 11,
   "metadata": {},
   "outputs": [
    {
     "name": "stdout",
     "output_type": "stream",
     "text": [
      "['Apple', 'Pear', 'Orange', 'Pine apple']\n"
     ]
    }
   ],
   "source": [
    "l = [\"   apple  \", \"pear \", \"orange\", \"pine apple  \"]\n",
    "l2 = [process_string(x) for x in l]\n",
    "print(l2)"
   ]
  },
  {
   "cell_type": "markdown",
   "metadata": {},
   "source": [
    "### map can easily handle multiple iterables, unlike list comprehensions.\n",
    "Indeed, this is one of the intriguing aspects where `map` shows its unique strength. When you have multiple iterables and you want to apply a function across them element-wise, `map` handles this with aplomb, something that's not as straightforward with list comprehensions. Let's examine this with examples.\r\n",
    "\r\n",
    "### Example 1: Adding Corresponding Elements of Two Lists\r\n",
    "\r\n",
    "Suppose you have two lists and you want to add their corresponding elements.\r\n",
    "\r\n",
    "**Using `map`:**\r\n",
    "\r\n",
    "```python\r\n",
    "list1 = [1, 2, 3]\r\n",
    "list2 = [4, 5, 6]\r\n",
    "\r\n",
    "# Add corresponding elements\r\n",
    "result = map(lambda x, y: x + y, list1, list2)\r\n",
    "added = list(result)  # [5, 7, 9]\r\n",
    "```\r\n",
    "\r\n",
    "`map` elegantly adds corresponding elements. Trying to do this with a list comprehension would require zipping the lists, which adds an extra step:\r\n",
    "\r\n",
    "**Using List Comprehension:**\r\n",
    "\r\n",
    "```python\r\n",
    "added_comprehension = [x + y for x, y in zip(list1, list2)]\r\n",
    "```\r\n",
    "\r\n",
    "### Example 2: Element-wise Multiplication of Three Lists\r\n",
    "\r\n",
    "Let's escalate the complexity. We have three lists this time, and our mission is to multiply corresponding elements.\r\n",
    "\r\n",
    "**Using `map`:**\r\n",
    "\r\n",
    "```python\r\n",
    "list1 = [1, 2, 3]\r\n",
    "list2 = [4, 5, 6]\r\n",
    "list3 = [7, 8, 9]\r\n",
    "\r\n",
    "# Multiply corresponding elements\r\n",
    "result = map(lambda x, y, z: x * y * z, list1, list2, list3)\r\n",
    "multiplied = list(result)  # [28, 80, 162]\r\n",
    "```\r\n",
    "\r\n",
    "**Using List Comprehension:**\r\n",
    "\r\n",
    "Again, we'd need to employ `zip`:\r\n",
    "\r\n",
    "```python\r\n",
    "multiplied_comprehension = [x * y * z for x, y, z in zip(list1, list2, list3)]\r\n",
    "```\r\n",
    "\r\n",
    "### Example 3: Combining Iterables of Different Lengths\r\n",
    "\r\n",
    "What happens when our lists are of different lengths? `map` handles this by stopping at the shortest iterable.\r\n",
    "\r\n",
    "**Using `map`:**\r\n",
    "\r\n",
    "```python\r\n",
    "list1 = [1, 2, 3]\r\n",
    "list2 = [4, 5]\r\n",
    "\r\n",
    "result = map(lambda x, y: x + y, list1, list2)\r\n",
    "combined = list(result)  # [5, 7]\r\n",
    "```\r\n",
    "\r\n",
    "With list comprehensions and `zip`, you'd get the same behavior:\r\n",
    "\r\n",
    "```python\r\n",
    "combined_comprehension = [x + y for x, y in zip(list1, list2)]\r\n",
    "```\r\n",
    "\r\n",
    "### Conclusion\r\n",
    "\r\n",
    "`map` shines when dealing with multiple iterables, especially when you want to apply a function across them element-wise. While list comprehensions can achieve similar results with the help of `zip`, `map` provides a more direct and often clearer approach for these specific scenarios. It's like having a tool that's specially designed for a task, making the process smoother and more intuitive."
   ]
  },
  {
   "cell_type": "markdown",
   "metadata": {},
   "source": [
    "## Filter\n",
    "\n",
    "While a **map function** always creates a new **list** of the same size as the original, the **filter** function creates a potentially smaller **list**.\n",
    "\n",
    "The `filter` function in Python is like a discerning detective who only selects clues that meet a specific criterion. Unlike `map`, which transforms every element in an iterable and returns an iterable of the same size, `filter` selectively passes through only those elements that satisfy a given condition. Let's unpack this concept with examples, ranging from basic to more intricate.\r\n",
    "\r\n",
    "### Basic Example: Filtering Even Numbers\r\n",
    "\r\n",
    "Imagine we have a list of numbers and we want to extract only the even ones.\r\n",
    "\r\n",
    "**Using `filter`:**\r\n",
    "\r\n",
    "```python\r\n",
    "numbers = [1, 2, 3, 4, 5, 6]\r\n",
    "\r\n",
    "# Define the condition\r\n",
    "def is_even(x):\r\n",
    "    return x % 2 == 0\r\n",
    "\r\n",
    "even_numbers = list(filter(is_even, numbers))  # [2, 4, 6]\r\n",
    "```\r\n",
    "\r\n",
    "`filter` applies the `is_even` function to each element and includes it in the result only if the function returns `True`.\r\n",
    "\r\n",
    "### Intermediate Example: Filtering Based on String Length\r\n",
    "\r\n",
    "Now, let's say we have a list of strings and we want to keep only those that are longer than 3 characters.\r\n",
    "\r\n",
    "**Using `filter`:**\r\n",
    "\r\n",
    "```python\r\n",
    "words = [\"apple\", \"is\", \"delicious\", \"cat\"]\r\n",
    "\r\n",
    "# Define the condition\r\n",
    "def longer_than_three(s):\r\n",
    "    return len(s) > 3\r\n",
    "\r\n",
    "long_words = list(filter(longer_than_three, words))  # ['apple', 'delicious']\r\n",
    "```\r\n",
    "\r\n",
    "Here, `filter` evaluates each string and includes it if it satisfies the length condition.\r\n",
    "\r\n",
    "### Complex Example: Filtering Using Multiple Conditions\r\n",
    "\r\n",
    "For a more complex scenario, imagine filtering a list of dictionaries based on multiple conditions. Let's say we have data representing people and we want to filter out those who are above 18 years old and have a specific skill.\r\n",
    "\r\n",
    "**Using `filter`:**\r\n",
    "\r\n",
    "```python\r\n",
    "people = [\r\n",
    "    {'name': 'Alice', 'age': 17, 'skills': ['Python', 'R']},\r\n",
    "    {'name': 'Bob', 'age': 20, 'skills': ['Java']},\r\n",
    "    {'name': 'Carol', 'age': 22, 'skills': ['C++', 'Python']}\r\n",
    "]\r\n",
    "\r\n",
    "# Define the condition\r\n",
    "def is_adult_with_python(person):\r\n",
    "    return person['age'] > 18 and 'Python' in person['skills']\r\n",
    "\r\n",
    "filtered_people = list(filter(is_adult_with_python, people))\r\n",
    "# [{'name': 'Carol', 'age': 22, 'skills': ['C++', 'Python']}]\r\n",
    "```\r\n",
    "\r\n",
    "In this case, `filter` checks each dictionary to see if it meets both the age and skill conditions.\r\n",
    "\r\n",
    "### Conclusion\r\n",
    "\r\n",
    "`filter` is excellent for narrowing down a list based on specific criteria. It's like having a gatekeeper that only allows certain elements through. This function becomes particularly powerful in combination with lambda functions for concise, on-the-fly filtering. Remember, while `map` transforms, `filter` selects — each serving a unique and useful role in Python programming.\n"
   ]
  },
  {
   "cell_type": "code",
   "execution_count": 8,
   "metadata": {},
   "outputs": [
    {
     "name": "stdout",
     "output_type": "stream",
     "text": [
      "[10, 20]\n"
     ]
    }
   ],
   "source": [
    "def greater_than_five(x):\n",
    "    return x > 5\n",
    "\n",
    "\n",
    "l = [1, 10, 20, 3, -2, 0]\n",
    "l2 = list(filter(greater_than_five, l))\n",
    "print(l2)"
   ]
  },
  {
   "cell_type": "markdown",
   "metadata": {},
   "source": [
    "## Lambda\n",
    "\n",
    "It might seem somewhat tedious to have to create an entire function just to check to see if a value is greater than 5. A **lambda** saves you this effort. A lambda is essentially an unnamed function.\n",
    "\n",
    "The statement you've encountered touches on the elegance and simplicity of lambda functions in Python. Lambdas are indeed anonymous (unnamed) functions, offering a compact way to define a function in a single line, typically for short-term use. This can be especially handy when you need a simple function for methods like `map`, `filter`, or sorting operations, and creating a full function definition seems overkill. Let's explore this concept with examples, starting from basic to more complex.\r\n",
    "\r\n",
    "### Basic Example: Checking If a Number Is Greater Than 5\r\n",
    "\r\n",
    "**Using a Regular Function:**\r\n",
    "\r\n",
    "```python\r\n",
    "def is_greater_than_five(x):\r\n",
    "    return x > 5\r\n",
    "\r\n",
    "result = is_greater_than_five(6)  # True\r\n",
    "```\r\n",
    "\r\n",
    "**Using a Lambda Function:**\r\n",
    "\r\n",
    "```python\r\n",
    "is_greater_than_five_lambda = lambda x: x > 5\r\n",
    "result = is_greater_than_five_lambda(6)  # True\r\n",
    "```\r\n",
    "\r\n",
    "Here, the lambda function serves the same purpose as `is_greater_than_five` but is defined succinctly in one line.\r\n",
    "\r\n",
    "### Intermediate Example: Sorting a List of Tuples\r\n",
    "\r\n",
    "Consider sorting a list of tuples based on the second element of each tuple.\r\n",
    "\r\n",
    "**Using Lambda Function:**\r\n",
    "\r\n",
    "```python\r\n",
    "data = [(1, 'apple'), (2, 'orange'), (3, 'banana')]\r\n",
    "sorted_data = sorted(data, key=lambda x: x[1])\r\n",
    "# [(1, 'apple'), (3, 'banana'), (2, 'orange')]\r\n",
    "```\r\n",
    "\r\n",
    "The lambda function `lambda x: x[1]` helps to specify that sorting should be based on the second element of each tuple.\r\n",
    "\r\n",
    "### More Complex Example: Filtering and Transforming Data\r\n",
    "\r\n",
    "Let's filter a list of numbers to keep only those greater than 5 and simultaneously transform them by squaring each number.\r\n",
    "\r\n",
    "**Using `map` and `filter` with Lambda Functions:**\r\n",
    "\r\n",
    "```python\r\n",
    "numbers = [1, 2, 3, 4, 5, 6, 7, 8, 9]\r\n",
    "\r\n",
    "# Filter numbers greater than 5\r\n",
    "filtered_numbers = filter(lambda x: x > 5, numbers)\r\n",
    "\r\n",
    "# Square the filtered numbers\r\n",
    "squared_numbers = map(lambda x: x**2, filtered_numbers)\r\n",
    "\r\n",
    "result = list(squared_numbers)  # [36, 49, 64, 81]\r\n",
    "```\r\n",
    "\r\n",
    "Here, lambdas provide a concise way to define the conditions and transformations on the fly.\r\n",
    "\r\n",
    "### Advanced Example: Combining Multiple Iterables\r\n",
    "\r\n",
    "Imagine combining elements from two lists based on a condition using a lambda function.\r\n",
    "\r\n",
    "**Using `filter` with a Lambda Function:**\r\n",
    "\r\n",
    "```python\r\n",
    "list1 = [1, 2, 3, 4]\r\n",
    "list2 = [3, 4, 5, 6]\r\n",
    "\r\n",
    "# Combine elements if they are equal and exist in both lists\r\n",
    "combined_elements = filter(lambda x: x in list2, list1)\r\n",
    "result = list(combined_elements)  # [3, 4]\r\n",
    "```\r\n",
    "\r\n",
    "This example filters `list1` to include only those elements also present in `list2`.\r\n",
    "\r\n",
    "### Conclusion\r\n",
    "\r\n",
    "Lambda functions in Python are like a secret weapon for concise, on-the-spot function definitions. They are particularly useful for one-off operations where a full function definition would be unnecessarily verbose. As we move from basic to complex examples, the utility of lambda functions in making code more readable and succinct becomes increasingly apparent."
   ]
  },
  {
   "cell_type": "code",
   "execution_count": 13,
   "metadata": {},
   "outputs": [
    {
     "name": "stdout",
     "output_type": "stream",
     "text": [
      "[10, 20]\n"
     ]
    }
   ],
   "source": [
    "l = [1, 10, 20, 3, -2, 0]\n",
    "l2 = list(filter(lambda x: x > 5, l))\n",
    "print(l2)"
   ]
  },
  {
   "cell_type": "markdown",
   "metadata": {},
   "source": [
    "## Reduce\n",
    "\n",
    "Finally, we will make use of **reduce**. Like **filter** and **map** the **reduce** function also works on a **list**. However, the result of the **reduce** is a single value. Consider if you wanted to sum the **values** of a **list**. The sum is implemented by a **lambda**.\n",
    "\n",
    "The `reduce` function in Python, which is part of the `functools` module, is like a masterchef who takes a list of ingredients and combines them step by step into a single dish. Unlike `map` and `filter`, which produce lists, `reduce` applies a function cumulatively to the items of a sequence, reducing the sequence to a single value. This function is particularly useful for operations that need to accumulate a result across all elements of a list. Let's explore its usage with examples, starting from basic to more complex.\r\n",
    "\r\n",
    "### Basic Example: Summing a List of Numbers\r\n",
    "\r\n",
    "**Using `reduce` to Sum Values:**\r\n",
    "\r\n",
    "```python\r\n",
    "from functools import reduce\r\n",
    "\r\n",
    "numbers = [1, 2, 3, 4, 5]\r\n",
    "\r\n",
    "# Define a lambda function for adding two numbers\r\n",
    "sum_numbers = reduce(lambda x, y: x + y, numbers)\r\n",
    "# sum_numbers will be 15\r\n",
    "```\r\n",
    "\r\n",
    "Here, `reduce` applies the lambda function (which adds two numbers) cumulatively: first it adds 1 and 2, then adds 3 to the result, then 4, and finally 5.\r\n",
    "\r\n",
    "### Intermediate Example: Finding the Maximum Value in a List\r\n",
    "\r\n",
    "Let's use `reduce` to find the maximum value in a list of numbers.\r\n",
    "\r\n",
    "**Using `reduce`:**\r\n",
    "\r\n",
    "```python\r\n",
    "numbers = [45, 3, 12, 100, 10]\r\n",
    "\r\n",
    "# Define a lambda to find the maximum of two numbers\r\n",
    "max_number = reduce(lambda x, y: x if x > y else y, numbers)\r\n",
    "# max_number will be 100\r\n",
    "```\r\n",
    "\r\n",
    "In this scenario, `reduce` takes two elements at a time and keeps the maximum, effectively finding the highest number in the list.\r\n",
    "\r\n",
    "### More Complex Example: Concatenating Strings in a List\r\n",
    "\r\n",
    "Now, imagine we have a list of strings and we want to concatenate them in a specific order.\r\n",
    "\r\n",
    "**Using `reduce`:**\r\n",
    "\r\n",
    "```python\r\n",
    "strings = [\"Python \", \"is \", \"awesome\"]\r\n",
    "\r\n",
    "# Define a lambda to concatenate two strings\r\n",
    "concatenated_string = reduce(lambda x, y: x + y, strings)\r\n",
    "# concatenated_string will be \"Python is awesome\"\r\n",
    "```\r\n",
    "\r\n",
    "Here, `reduce` applies the lambda function to concatenate the strings one after the other.\r\n",
    "\r\n",
    "### Advanced Example: Calculating Factorial\r\n",
    "\r\n",
    "For a more advanced example, let's calculate the factorial of a number using `reduce`.\r\n",
    "\r\n",
    "**Using `reduce`:**\r\n",
    "\r\n",
    "```python\r\n",
    "n = 5\r\n",
    "\r\n",
    "# Calculate factorial using reduce\r\n",
    "factorial = reduce(lambda x, y: x * y, range(1, n + 1))\r\n",
    "# factorial will be 120 (which is 5!)\r\n",
    "```\r\n",
    "\r\n",
    "In this example, `reduce` multiplies each number in the range from 1 to `n`, thus calculating the factorial.\r\n",
    "\r\n",
    "### Conclusion\r\n",
    "\r\n",
    "`reduce` is a powerful tool when you need to perform cumulative operations on a list and want to end up with a single result. From summing numbers to more elaborate tasks like calculating factorials, `reduce` offers a concise and effective way to accumulate values in Python. It's like a magic trick that transforms a series of values into one grand finale! 🎩✨\n"
   ]
  },
  {
   "cell_type": "code",
   "execution_count": 9,
   "metadata": {},
   "outputs": [
    {
     "name": "stdout",
     "output_type": "stream",
     "text": [
      "32\n"
     ]
    }
   ],
   "source": [
    "from functools import reduce\n",
    "\n",
    "l = [1, 10, 20, 3, -2, 0]\n",
    "result = reduce(lambda x, y: x + y, l)\n",
    "print(result)"
   ]
  },
  {
   "cell_type": "code",
   "execution_count": null,
   "metadata": {},
   "outputs": [],
   "source": []
  }
 ],
 "metadata": {
  "anaconda-cloud": {},
  "kernelspec": {
   "display_name": "Python 3 (ipykernel)",
   "language": "python",
   "name": "python3"
  },
  "language_info": {
   "codemirror_mode": {
    "name": "ipython",
    "version": 3
   },
   "file_extension": ".py",
   "mimetype": "text/x-python",
   "name": "python",
   "nbconvert_exporter": "python",
   "pygments_lexer": "ipython3",
   "version": "3.10.12"
  },
  "varInspector": {
   "cols": {
    "lenName": 16,
    "lenType": 16,
    "lenVar": 40
   },
   "kernels_config": {
    "python": {
     "delete_cmd_postfix": "",
     "delete_cmd_prefix": "del ",
     "library": "var_list.py",
     "varRefreshCmd": "print(var_dic_list())"
    },
    "r": {
     "delete_cmd_postfix": ") ",
     "delete_cmd_prefix": "rm(",
     "library": "var_list.r",
     "varRefreshCmd": "cat(var_dic_list()) "
    }
   },
   "types_to_exclude": [
    "module",
    "function",
    "builtin_function_or_method",
    "instance",
    "_Feature"
   ],
   "window_display": false
  }
 },
 "nbformat": 4,
 "nbformat_minor": 4
}
