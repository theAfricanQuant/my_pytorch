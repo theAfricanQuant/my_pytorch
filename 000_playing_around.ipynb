{
 "cells": [
  {
   "cell_type": "code",
   "execution_count": 1,
   "id": "949d0f3a-0ee8-4c98-9780-f2144a7d02c6",
   "metadata": {},
   "outputs": [
    {
     "name": "stdout",
     "output_type": "stream",
     "text": [
      "Numpy Version: 1.24.2\n",
      "Pandas Version: 2.2.0\n"
     ]
    }
   ],
   "source": [
    "import numpy as np\n",
    "import pandas as pd\n",
    "\n",
    "print(f\"Numpy Version: {np.__version__}\")\n",
    "print(f\"Pandas Version: {pd.__version__}\")"
   ]
  },
  {
   "cell_type": "markdown",
   "id": "9347f6a4-2c1d-4839-904f-30ce21d55d37",
   "metadata": {},
   "source": [
    "Ah, a quest for consistency in the random world of NumPy, guided by the light of a seed! Let's break this down, Watson-style:\n",
    "\n",
    "1. **The Goal**: To create a pandas Series.\n",
    "2. **The Tool**: use NumPy's random number generator (RNG).\n",
    "3. **The Key**: Set the seed to `43` to ensure reproducibility.\n",
    "\n",
    "Here's how we'll proceed:\n",
    "\n",
    "- First, we summon the NumPy RNG.\n",
    "- Next, we imbue it with the power of the seed `43`.\n",
    "- We then ask it to conjure a sequence of random numbers.\n",
    "- Lastly, we transform this mystical sequence into a pandas Series."
   ]
  },
  {
   "cell_type": "code",
   "execution_count": 2,
   "id": "30ad0db9-5e63-47be-8594-4d34b6709327",
   "metadata": {},
   "outputs": [
    {
     "data": {
      "text/plain": [
       "0    51\n",
       "1    65\n",
       "2    40\n",
       "3     4\n",
       "4    58\n",
       "5     2\n",
       "6    27\n",
       "7    84\n",
       "8    46\n",
       "9    59\n",
       "dtype: int64"
      ]
     },
     "execution_count": 2,
     "metadata": {},
     "output_type": "execute_result"
    }
   ],
   "source": [
    "# Setting the seed for reproducibility\n",
    "rng = np.random.default_rng(seed=43)\n",
    "\n",
    "# Generating random integers\n",
    "random_integers = rng.integers(low=0, high=101, size=10)  # 10 random integers from 0 to 100\n",
    "\n",
    "# Creating a pandas Series\n",
    "integer_series = pd.Series(random_integers)\n",
    "\n",
    "# Display the Series\n",
    "integer_series"
   ]
  },
  {
   "cell_type": "code",
   "execution_count": 3,
   "id": "e5b63643-1ea9-438a-95c2-287557479d0c",
   "metadata": {},
   "outputs": [
    {
     "data": {
      "text/plain": [
       "0        staple\n",
       "1          text\n",
       "2       strings\n",
       "3        tokens\n",
       "4       natural\n",
       "5     processes\n",
       "6      language\n",
       "7         neuro\n",
       "8    linguistic\n",
       "9       program\n",
       "dtype: object"
      ]
     },
     "execution_count": 3,
     "metadata": {},
     "output_type": "execute_result"
    }
   ],
   "source": [
    "string_series = pd.Series(['staple', 'text',\n",
    "                           'strings', 'tokens', \n",
    "                           'natural', 'processes',\n",
    "                           'language', 'neuro', \n",
    "                           'linguistic', 'program'])\n",
    "\n",
    "string_series"
   ]
  },
  {
   "cell_type": "markdown",
   "id": "722fc3db-48e4-42c7-a577-d659c39d2f04",
   "metadata": {},
   "source": [
    "Let us use the `pyarrow` backend."
   ]
  },
  {
   "cell_type": "code",
   "execution_count": 4,
   "id": "df448a4c-8ef4-4344-8d23-36bc1bb39919",
   "metadata": {},
   "outputs": [
    {
     "data": {
      "text/plain": [
       "0    51\n",
       "1    65\n",
       "2    40\n",
       "3     4\n",
       "4    58\n",
       "5     2\n",
       "6    27\n",
       "7    84\n",
       "8    46\n",
       "9    59\n",
       "dtype: int64[pyarrow]"
      ]
     },
     "execution_count": 4,
     "metadata": {},
     "output_type": "execute_result"
    }
   ],
   "source": [
    "integer_series = pd.Series(random_integers, dtype='int64[pyarrow]')\n",
    "integer_series "
   ]
  },
  {
   "cell_type": "code",
   "execution_count": 5,
   "id": "16871b98-bfe1-4817-b92f-6b84a630bf05",
   "metadata": {},
   "outputs": [
    {
     "data": {
      "text/plain": [
       "0        staple\n",
       "1          text\n",
       "2       strings\n",
       "3        tokens\n",
       "4       natural\n",
       "5     processes\n",
       "6      language\n",
       "7         neuro\n",
       "8    linguistic\n",
       "9       program\n",
       "dtype: string"
      ]
     },
     "execution_count": 5,
     "metadata": {},
     "output_type": "execute_result"
    }
   ],
   "source": [
    "string_series = pd.Series(['staple', 'text',\n",
    "                           'strings', 'tokens', \n",
    "                           'natural', 'processes',\n",
    "                           'language', 'neuro', \n",
    "                           'linguistic', 'program'],\n",
    "                         dtype='string[pyarrow]')\n",
    "\n",
    "string_series"
   ]
  },
  {
   "cell_type": "markdown",
   "id": "4c1fb83d-8300-4365-8e25-bb2aba89165d",
   "metadata": {},
   "source": [
    "### The Scroll's Contents\n",
    "This Python script is composed of several interesting elements:\n",
    "\n",
    "1. **Import Statements**: \n",
    "   - `from typing import Callable`: This imports the `Callable` type from the `typing` module, used for type hinting. It's like saying, \"Expect a sorcerer (function) who can perform spells (actions).\"\n",
    "   - `from functools import partial`: Here we summon the `partial` function from the `functools` module. Think of `partial` as a spell that lets you prepare another spell (function) with some of its ingredients (arguments) already chosen.\n",
    "   - `import timeit`: This imports the `timeit` module, a timekeeper for how fast spells (functions) are cast.\n",
    "\n",
    "2. **Constant Definition**:\n",
    "   - `NUM_ITERATIONS = 20`: This sets a constant named `NUM_ITERATIONS` to `20`, likely to be used as the number of times a function will be timed. It's like saying, \"We shall repeat our experiment 20 times.\"\n",
    "\n",
    "3. **The `time_function` Spell**:\n",
    "   - **Function Signature**: \n",
    "     - `def time_function(function_to_time: Callable, **kwargs)`: This defines a function, `time_function`, which takes a `Callable` (a function) and an arbitrary number of keyword arguments (`**kwargs`).\n",
    "   - **The Function's Inner Workings**:\n",
    "     - `return partial(function_to_time, **kwargs)`: Here, `time_function` returns a `partial` object. What does this mean? It means you are pre-loading the `function_to_time` with some of its arguments (the ones provided in `**kwargs`), but not executing it yet. It's like preparing a magic potion but not drinking it immediately.\n",
    "\n",
    "### The Code's Purpose in Layman's Terms\n",
    "Imagine you have a spell (function) that you want to cast (execute), but this spell requires some specific ingredients (arguments). The `time_function` allows you to prepare this spell with some of its ingredients already in place. However, instead of casting it right away, it gives you this pre-prepared spell. Why? So you can cast it repeatedly (perhaps using `timeit` to measure how long it takes) without having to add those ingredients every single time.\n",
    "\n",
    "In short, `time_function` is a convenience tool for setting up a function with specific arguments for timing purposes, like a rehearsal before the actual performance. Quite clever, isn't it? 🎩✨🔮"
   ]
  },
  {
   "cell_type": "code",
   "execution_count": 6,
   "id": "a3dfed6a-2dc2-45ea-9eac-72e180b4b35f",
   "metadata": {},
   "outputs": [],
   "source": [
    "from typing import Callable\n",
    "from functools import partial\n",
    "import timeit\n",
    "from typing import List\n",
    "\n",
    "NUM_ITERATIONS = 20\n",
    "\n",
    "def time_function(function_to_time: Callable, **kwargs):\n",
    "  return partial(function_to_time, **kwargs)"
   ]
  },
  {
   "cell_type": "code",
   "execution_count": 7,
   "id": "4f273bdf-4c1b-45a7-8450-c41aea1390d2",
   "metadata": {},
   "outputs": [],
   "source": [
    "import string\n",
    "\n",
    "def generate_random_strings(num_strings: int = 2_500_000, chance_for_empty_string: float = 0.1, min_length: int = 5, max_length: int = 8, seed: int = 43) -> list:\n",
    "\n",
    "    # Initialize NumPy's random number generator with a seed\n",
    "    rng = np.random.default_rng(seed)\n",
    "\n",
    "    chars = np.array(list(string.ascii_lowercase + string.digits))\n",
    "\n",
    "    # Generate string lengths using NumPy's RNG\n",
    "    string_lengths = rng.integers(min_length, max_length, size=num_strings)\n",
    "\n",
    "    # Choose random characters using NumPy's RNG\n",
    "    random_chars = rng.choice(chars, size=(num_strings, max_length))\n",
    "\n",
    "    # Create strings and handle the chance for empty strings\n",
    "    empty_string_mask = rng.random(num_strings) < chance_for_empty_string\n",
    "    random_strings = [''.join(chars[:length]) if not is_empty else '' for chars, length, is_empty in zip(random_chars, string_lengths, empty_string_mask)]\n",
    "\n",
    "    return random_strings"
   ]
  },
  {
   "cell_type": "code",
   "execution_count": 8,
   "id": "ca737803-7aaa-45fc-a593-63dad3e91784",
   "metadata": {
    "scrolled": true
   },
   "outputs": [],
   "source": [
    "random_strings = generate_random_strings()\n",
    "assert len(random_strings) == 2_500_000"
   ]
  },
  {
   "cell_type": "code",
   "execution_count": 9,
   "id": "19b01427-0e4f-4afc-b4b9-8155f34a5de0",
   "metadata": {},
   "outputs": [],
   "source": [
    "assert len(random_strings) == 2_500_000"
   ]
  },
  {
   "cell_type": "markdown",
   "id": "353cb59e-9aac-467d-ac6e-ad170edf74bd",
   "metadata": {},
   "source": [
    "**NumPy Backend**"
   ]
  },
  {
   "cell_type": "code",
   "execution_count": 10,
   "id": "85ed7bcb-3fc3-419c-a970-b1117f23def5",
   "metadata": {},
   "outputs": [
    {
     "name": "stdout",
     "output_type": "stream",
     "text": [
      "It took ~0.10 seconds to run this function.\n"
     ]
    }
   ],
   "source": [
    "def build_numpy_backend_series(data: List[str]) -> pd.Series:\n",
    "  return pd.Series(data)\n",
    "\n",
    "numpy_backend_timed_function = time_function(build_numpy_backend_series, data = random_strings)\n",
    "\n",
    "numpy_backend_elapsed_time = timeit.timeit(numpy_backend_timed_function, number=NUM_ITERATIONS) / NUM_ITERATIONS\n",
    "\n",
    "numpy_backend_series = build_numpy_backend_series(data = random_strings)\n",
    "\n",
    "print(f\"It took ~{numpy_backend_elapsed_time:.2f} seconds to run this function.\")"
   ]
  },
  {
   "cell_type": "markdown",
   "id": "bdaa5e26-6755-4d18-ab86-3d6c1026c363",
   "metadata": {},
   "source": [
    "**PyArrow Backend**"
   ]
  },
  {
   "cell_type": "code",
   "execution_count": 11,
   "id": "6d8b9391-ca66-4422-b0d5-3527f4a6d054",
   "metadata": {},
   "outputs": [
    {
     "name": "stdout",
     "output_type": "stream",
     "text": [
      "It took ~0.10 seconds to run this function.\n"
     ]
    }
   ],
   "source": [
    "def build_pyarrow_backend_series(data: List[str]) -> pd.Series:\n",
    "  return pd.Series(data, dtype='string[pyarrow]')\n",
    "\n",
    "pyarrow_backend_timed_function = time_function(build_pyarrow_backend_series, data = random_strings)\n",
    "\n",
    "pyarrow_backend_elapsed_time = timeit.timeit(pyarrow_backend_timed_function, number=NUM_ITERATIONS) / NUM_ITERATIONS\n",
    "\n",
    "pyarrow_backend_series = build_pyarrow_backend_series(data = random_strings)\n",
    "\n",
    "print(f\"It took ~{numpy_backend_elapsed_time:.2f} seconds to run this function.\")"
   ]
  },
  {
   "cell_type": "code",
   "execution_count": 12,
   "id": "f2e8105a-e81a-40fb-a2ca-863260a96d5e",
   "metadata": {},
   "outputs": [
    {
     "name": "stdout",
     "output_type": "stream",
     "text": [
      "It took ~0.51s to find all the strings that ended with 'a'!\n"
     ]
    }
   ],
   "source": [
    "def find_strings_ending_with_char(pandas_series: pd.Series, ending_char: str = 'a') -> pd.Series:\n",
    "  return pandas_series[pandas_series.str.endswith(ending_char)]\n",
    "\n",
    "find_string_numpy = time_function(find_strings_ending_with_char, pandas_series = numpy_backend_series)\n",
    "\n",
    "find_string_numpy_elapsed_time = timeit.timeit(find_string_numpy, number = NUM_ITERATIONS) / NUM_ITERATIONS\n",
    "\n",
    "numpy_series_str_endswith_a = find_strings_ending_with_char(numpy_backend_series)\n",
    "\n",
    "print(f\"It took ~{find_string_numpy_elapsed_time:.2f}s to find all the strings that ended with 'a'!\")"
   ]
  },
  {
   "cell_type": "code",
   "execution_count": 13,
   "id": "dc8b31df-5da5-478f-a42a-d3958f5e7cca",
   "metadata": {},
   "outputs": [
    {
     "data": {
      "text/plain": [
       "11       j5jza\n",
       "114    js1fkta\n",
       "161     lxlgpa\n",
       "206    fosk3ha\n",
       "207      30bja\n",
       "dtype: object"
      ]
     },
     "execution_count": 13,
     "metadata": {},
     "output_type": "execute_result"
    }
   ],
   "source": [
    "numpy_series_str_endswith_a.head()"
   ]
  },
  {
   "cell_type": "code",
   "execution_count": 14,
   "id": "f24aea3e-c24f-42ee-8a57-7ff7f573dbe3",
   "metadata": {},
   "outputs": [
    {
     "name": "stdout",
     "output_type": "stream",
     "text": [
      "It took ~0.04s to find all the strings that ended with 'a'!\n"
     ]
    }
   ],
   "source": [
    "find_string_pyarrow = time_function(find_strings_ending_with_char, pandas_series = pyarrow_backend_series)\n",
    "\n",
    "find_string_pyarrow_elapsed_time = timeit.timeit(find_string_pyarrow, number = NUM_ITERATIONS) / NUM_ITERATIONS\n",
    "\n",
    "pyarrow_series_str_endswith_a = find_strings_ending_with_char(pyarrow_backend_series)\n",
    "\n",
    "print(f\"It took ~{find_string_pyarrow_elapsed_time:.2f}s to find all the strings that ended with 'a'!\")"
   ]
  },
  {
   "cell_type": "code",
   "execution_count": 15,
   "id": "0b853a52-f5a6-4181-b31f-9b518648703c",
   "metadata": {},
   "outputs": [
    {
     "data": {
      "text/plain": [
       "11       j5jza\n",
       "114    js1fkta\n",
       "161     lxlgpa\n",
       "206    fosk3ha\n",
       "207      30bja\n",
       "dtype: string"
      ]
     },
     "execution_count": 15,
     "metadata": {},
     "output_type": "execute_result"
    }
   ],
   "source": [
    "pyarrow_series_str_endswith_a.head()"
   ]
  },
  {
   "cell_type": "code",
   "execution_count": 16,
   "id": "32694685-d25d-4466-b063-ab5f8290e271",
   "metadata": {},
   "outputs": [
    {
     "name": "stdout",
     "output_type": "stream",
     "text": [
      "The PyArrow backend ran ~14.34x faster!\n"
     ]
    }
   ],
   "source": [
    "print(f\"The PyArrow backend ran ~{find_string_numpy_elapsed_time / find_string_pyarrow_elapsed_time:.2f}x faster!\")"
   ]
  },
  {
   "cell_type": "markdown",
   "id": "c1ff5412-4a90-49ec-8101-a4b49db96149",
   "metadata": {},
   "source": [
    "**Let's find the mean!**\n",
    "* we will create a random float list\n",
    "* we will convert the list into a pandas Series using both the numpy and the pyarrow backend"
   ]
  },
  {
   "cell_type": "code",
   "execution_count": 17,
   "id": "c7a5bd1c-a1aa-4f2a-8095-7f57602cd293",
   "metadata": {},
   "outputs": [],
   "source": [
    "def generate_random_numbers(n: int = 2_500_000, min_val: int = -1_000_000, max_val: int = 1_000_000, seed: int = 43) -> np.ndarray:\n",
    "    # Initialize NumPy's random number generator with a seed\n",
    "    rng = np.random.default_rng(seed)\n",
    "\n",
    "    # Generate random numbers using NumPy's RNG\n",
    "    return rng.uniform(low = min_val, high = max_val, size = n)\n",
    "\n",
    "\n",
    "random_float_list = generate_random_numbers()\n",
    "assert len(random_float_list) == 2_500_000"
   ]
  },
  {
   "cell_type": "code",
   "execution_count": 18,
   "id": "78d4bf6f-df7a-40c9-83dc-fc3802086216",
   "metadata": {},
   "outputs": [
    {
     "data": {
      "text/plain": [
       "0    304598.525402\n",
       "1   -912449.352722\n",
       "2   -959940.826252\n",
       "3    678425.165022\n",
       "4    174286.095176\n",
       "dtype: float64"
      ]
     },
     "execution_count": 18,
     "metadata": {},
     "output_type": "execute_result"
    }
   ],
   "source": [
    "numpy_backend_float_series = pd.Series(random_float_list)\n",
    "\n",
    "numpy_backend_float_series.head()"
   ]
  },
  {
   "cell_type": "code",
   "execution_count": 19,
   "id": "576bb7a6-212e-4903-9aeb-ffe106ba62fd",
   "metadata": {},
   "outputs": [
    {
     "data": {
      "text/plain": [
       "0    304598.525402\n",
       "1   -912449.352722\n",
       "2   -959940.826252\n",
       "3    678425.165022\n",
       "4    174286.095176\n",
       "dtype: double[pyarrow]"
      ]
     },
     "execution_count": 19,
     "metadata": {},
     "output_type": "execute_result"
    }
   ],
   "source": [
    "pyarrow_backend_float_series = pd.Series(random_float_list, dtype=\"float64[pyarrow]\")\n",
    "\n",
    "pyarrow_backend_float_series.head()"
   ]
  },
  {
   "cell_type": "markdown",
   "id": "59fbdb4b-912d-4813-b4a3-cbde234d33b9",
   "metadata": {},
   "source": [
    "Upon closer inspection, we observe that the data managed with the PyArrow backend adopts the label `double[pyarrow]` rather than `float64`. However, this distinction is largely semantic rather than functional, as both terminologies describe the same type of data: a double-precision floating-point number.\n",
    "\n",
    "Next, we turn our attention to comparing the performance of these two backends, specifically in their ability to compute the mean of these values.\n",
    "\n",
    "Conveniently, since our data is already organized into `pd.Series` objects, we can employ the same function to calculate the mean for both backends. This will provide us with a direct comparison of their efficiency in executing this particular operation."
   ]
  },
  {
   "cell_type": "code",
   "execution_count": 20,
   "id": "61e706e7-d256-42a1-99cb-866cc6df6cfe",
   "metadata": {},
   "outputs": [],
   "source": [
    "def find_mean(data: pd.Series) -> np.float64:\n",
    "    # Using np.mean to calculate the mean\n",
    "    return np.mean(data.values)"
   ]
  },
  {
   "cell_type": "markdown",
   "id": "82c67565-05c5-470a-b6d5-8053807fe7e6",
   "metadata": {},
   "source": [
    "**Numpy Backend**"
   ]
  },
  {
   "cell_type": "code",
   "execution_count": 21,
   "id": "5c2ed7dd-fb49-4c7a-b86c-9d16cd2ace0d",
   "metadata": {},
   "outputs": [
    {
     "name": "stdout",
     "output_type": "stream",
     "text": [
      "The amount of time it took to get the mean was ~0.0031s! And the mean was: 116.55\n"
     ]
    }
   ],
   "source": [
    "timed_numpy_backend_mean_fn = time_function(find_mean, data = numpy_backend_float_series)\n",
    "numpy_backend_mean_elapsed_time = timeit.timeit(timed_numpy_backend_mean_fn, number = NUM_ITERATIONS) / NUM_ITERATIONS\n",
    "\n",
    "numpy_backend_mean = find_mean(numpy_backend_float_series)\n",
    "\n",
    "print(f\"The amount of time it took to get the mean was ~{numpy_backend_mean_elapsed_time:.4f}s! And the mean was: {numpy_backend_mean:.2f}\")"
   ]
  },
  {
   "cell_type": "markdown",
   "id": "a7dfae52-af38-4223-88db-aa3ca41abce6",
   "metadata": {},
   "source": [
    "**PyArrow Backend**"
   ]
  },
  {
   "cell_type": "code",
   "execution_count": 22,
   "id": "87376864-46e6-454d-aba2-9737d50db392",
   "metadata": {},
   "outputs": [
    {
     "name": "stdout",
     "output_type": "stream",
     "text": [
      "The amount of time it took to get the mean was ~0.0031s! And the mean was: 116.55\n"
     ]
    }
   ],
   "source": [
    "timed_pyarrow_backend_mean_fn = time_function(find_mean, data = pyarrow_backend_float_series)\n",
    "pyarrow_backend_mean_elapsed_time = timeit.timeit(timed_pyarrow_backend_mean_fn, number = NUM_ITERATIONS) / NUM_ITERATIONS\n",
    "\n",
    "pyarrow_backend_mean = find_mean(pyarrow_backend_float_series)\n",
    "\n",
    "print(f\"The amount of time it took to get the mean was ~{pyarrow_backend_mean_elapsed_time:.4f}s! And the mean was: {pyarrow_backend_mean:.2f}\")"
   ]
  },
  {
   "cell_type": "code",
   "execution_count": 23,
   "id": "bd280bfa-172b-467d-aebc-cd9b6216515c",
   "metadata": {},
   "outputs": [
    {
     "name": "stdout",
     "output_type": "stream",
     "text": [
      "The PyArrow backend ran ~1.01x faster!\n"
     ]
    }
   ],
   "source": [
    "print(f\"The PyArrow backend ran ~{numpy_backend_mean_elapsed_time / pyarrow_backend_mean_elapsed_time:.2f}x faster!\")"
   ]
  },
  {
   "cell_type": "code",
   "execution_count": 24,
   "id": "4fdcc158-0a38-45cc-a420-2c6e68758c21",
   "metadata": {},
   "outputs": [],
   "source": [
    "url = \"https://data.heatonresearch.com/data/t81-558/auto-mpg.csv\""
   ]
  },
  {
   "cell_type": "code",
   "execution_count": 25,
   "id": "2b9e040e-538a-4e2b-b052-9cafc67ffb99",
   "metadata": {},
   "outputs": [
    {
     "name": "stdout",
     "output_type": "stream",
     "text": [
      "90.6 ms ± 5.31 ms per loop (mean ± std. dev. of 7 runs, 10 loops each)\n"
     ]
    }
   ],
   "source": [
    "%%timeit\n",
    "df = pd.read_csv(\n",
    "    url, na_values=[\"NA\", \"?\"]\n",
    ")"
   ]
  },
  {
   "cell_type": "code",
   "execution_count": 26,
   "id": "9a9ea64c-f776-4fdb-997e-92b72692927e",
   "metadata": {},
   "outputs": [
    {
     "name": "stdout",
     "output_type": "stream",
     "text": [
      "136 ms ± 41.9 ms per loop (mean ± std. dev. of 7 runs, 10 loops each)\n"
     ]
    }
   ],
   "source": [
    "%%timeit\n",
    "#pd.options.mode.dtype_backend = \"pyarrow\"\n",
    "df = pd.read_csv(\n",
    "    url, na_values=[\"NA\", \"?\"],\n",
    "    engine = \"pyarrow\"\n",
    ")"
   ]
  },
  {
   "cell_type": "raw",
   "id": "3b14a772-2fb1-485a-8204-5754c104694b",
   "metadata": {},
   "source": [
    "%%writefile config.py\n",
    "\n",
    "# # Learning Pytorch\n",
    "# # in 20234\n",
    "# # (c) Ricky Macharm, MScFE\n",
    "# # https://www.SisengAI.com\n",
    "# #\n",
    "# #\n",
    "# import os\n",
    "# from dotenv import load_dotenv\n",
    "\n",
    "# def set_environment():\n",
    "#     load_dotenv()  # Load environment variables from .env file\n",
    "#     OPENAI_API_KEY = os.getenv('OPENAI_API_KEY')\n",
    "#     HUGGINGFACEHUB_API_TOKEN = os.getenv('HUGGINGFACEHUB_API_TOKEN')\n",
    "#     WOLFRAM_ALPHA_APPID = os.getenv('WOLFRAM_ALPHA_APPID')\n",
    "#     GOOGLE_KEY = os.getenv('GOOGLE_API_KEY')\n",
    "#     # You can fetch other keys similarly\n",
    "\n",
    "# set_environment()"
   ]
  },
  {
   "cell_type": "code",
   "execution_count": null,
   "id": "91793353-beb1-46b7-b463-cb58a4c7d032",
   "metadata": {},
   "outputs": [],
   "source": []
  }
 ],
 "metadata": {
  "kernelspec": {
   "display_name": "Python 3 (ipykernel)",
   "language": "python",
   "name": "python3"
  },
  "language_info": {
   "codemirror_mode": {
    "name": "ipython",
    "version": 3
   },
   "file_extension": ".py",
   "mimetype": "text/x-python",
   "name": "python",
   "nbconvert_exporter": "python",
   "pygments_lexer": "ipython3",
   "version": "3.10.12"
  }
 },
 "nbformat": 4,
 "nbformat_minor": 5
}
